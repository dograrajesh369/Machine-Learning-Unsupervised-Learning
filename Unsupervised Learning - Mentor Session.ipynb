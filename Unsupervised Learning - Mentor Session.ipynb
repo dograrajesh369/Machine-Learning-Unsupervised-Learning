{
 "cells": [
  {
   "cell_type": "markdown",
   "id": "olGVCfOK4ryz",
   "metadata": {
    "id": "olGVCfOK4ryz"
   },
   "source": [
    "<img src=\"http://drive.google.com/uc?export=view&id=1tpOCamr9aWz817atPnyXus8w5gJ3mIts\" width=500px>"
   ]
  },
  {
   "cell_type": "markdown",
   "id": "0kEqcUg3xH6Q",
   "metadata": {
    "id": "0kEqcUg3xH6Q"
   },
   "source": [
    "#  Machine Learning: Unsupervised Learning"
   ]
  },
  {
   "cell_type": "markdown",
   "id": "qWIMFfbwxYWc",
   "metadata": {
    "id": "qWIMFfbwxYWc"
   },
   "source": [
    "## Learning outcomes:\n",
    "- Exploratory data analysis and data preparation for model building.\n",
    "- PCA for dimensionality reduction.\n",
    "- K-means and Agglomerative Clustering"
   ]
  },
  {
   "cell_type": "markdown",
   "id": "a3nbQaWTxZ9J",
   "metadata": {
    "id": "a3nbQaWTxZ9J"
   },
   "source": [
    "### Principal Component Analysis:-\n",
    "- Unsupervised machine learning algorithm\n",
    "- Non-parametric statistical technique\n",
    "- Idea is to represent the data in lower dimension by preserving largest variance\n",
    "- PCA creates new synthetic features to represent the original features by projecting the data in the direction of largest variance.\n",
    "- PCs are linear combination of features which determines magnitude and direction of maximum variance\n",
    "- PCs are not correlated to each other\n",
    "- The number of PCs is equal to the number of original features\n",
    "\n",
    "### Applications of PCA:-\n",
    "- Dimensionality reduction\n",
    "- Improving signal to noise ratio\n",
    "- Helps in removing correlation between variables\n",
    "- To speed up the convergence of Neural networks\n",
    "\n",
    "### Clustering:-\n",
    "- Used to discovers hidden structure and patterns in uncategorized data.\n",
    "- Finds natural clusters ( groups) existing in the data.\n",
    "- Number of clusters and their granularity can be adjusted.\n",
    "\n",
    "\n",
    "### Types of Clustering:-\n",
    "1. Hierachical Clustering\n",
    "   - Agglomerative \n",
    "   - Divisive\n",
    "2. Non Hierarchical Clustering\n",
    "   - KMeans\n",
    "   - DBSCAN\n",
    "\n",
    "### Applications of Clustering:-\n",
    "- Customer segmentation\n",
    "- Market research\n",
    "- Recommendation engine\n",
    "- Pattern recognition\n",
    "- Image segmentation\n",
    "- Social network analysis\n",
    "\n",
    "\n"
   ]
  },
  {
   "cell_type": "markdown",
   "id": "aE7T0aiExBN1",
   "metadata": {
    "id": "aE7T0aiExBN1"
   },
   "source": [
    "## Data Description: \n",
    "The Data set contains information about various attributes like education, gender, family status etc,  of people from diverse backgrounds.\n",
    "\n",
    "### Attribute Information:\n",
    "- age: continuous.\n",
    "- workclass: Private, Self-emp-not-inc, Self-emp-inc, Federal-gov etc\n",
    "- Fnlwgt: Sample weight.\n",
    "- education: Bachelors, Some-college, 11th, HS-grad, Prof-school etc\n",
    "- education-num: continuous.\n",
    "- marital-status: Married-civ-spouse, Divorced, Never-married, Separated etc\n",
    "- occupation: Tech-support, Craft-repair, Other-service, Sales, Exec-managerial etc\n",
    "- relationship: Wife, Own-child, Husband, Not-in-family, Other-relative, Unmarried.\n",
    "- race: White, Asian-Pac-Islander, Black etc\n",
    "- sex: Female, Male.\n",
    "- capital-gain: continuous.\n",
    "- capital-loss: continuous.\n",
    "- hours-per-week: continuous.\n",
    "- native-country: United-States, Cambodia, England, Puerto-Rico, Canada etc"
   ]
  },
  {
   "cell_type": "markdown",
   "id": "fde7bdbe",
   "metadata": {
    "id": "fde7bdbe"
   },
   "source": [
    "### Import all necessary libraries"
   ]
  },
  {
   "cell_type": "code",
   "execution_count": 1,
   "id": "655c266c",
   "metadata": {
    "id": "655c266c"
   },
   "outputs": [],
   "source": [
    "# importing libraries\n",
    "\n",
    "import pandas as pd\n",
    "import numpy as np\n",
    "import matplotlib.pyplot as plt\n",
    "import seaborn as sns\n",
    "import warnings\n",
    "warnings.filterwarnings('ignore')\n",
    "\n",
    "from sklearn.preprocessing import StandardScaler,LabelEncoder\n",
    "from scipy import stats\n",
    "from sklearn.cluster import KMeans\n",
    "from scipy.stats import zscore\n",
    "from scipy.spatial import distance\n",
    "from scipy.cluster.hierarchy import linkage, dendrogram, fcluster\n",
    "from sklearn.cluster import AgglomerativeClustering\n",
    "from sklearn.decomposition import PCA\n",
    "from sklearn.model_selection import train_test_split\n",
    "from sklearn import preprocessing\n",
    "from sklearn.preprocessing import Normalizer"
   ]
  },
  {
   "cell_type": "markdown",
   "id": "43d2fc65",
   "metadata": {
    "id": "43d2fc65"
   },
   "source": [
    "### Q1. Load the CSV file (i.e adult.csv) and display the first 5 rows of the dataframe. Check the shape and info of the dataset."
   ]
  },
  {
   "cell_type": "code",
   "execution_count": 2,
   "id": "6606f100",
   "metadata": {
    "id": "6606f100",
    "outputId": "0dbcea52-12e6-4f6d-9a97-9cacb051eec3"
   },
   "outputs": [
    {
     "data": {
      "text/html": [
       "<div>\n",
       "<style scoped>\n",
       "    .dataframe tbody tr th:only-of-type {\n",
       "        vertical-align: middle;\n",
       "    }\n",
       "\n",
       "    .dataframe tbody tr th {\n",
       "        vertical-align: top;\n",
       "    }\n",
       "\n",
       "    .dataframe thead th {\n",
       "        text-align: right;\n",
       "    }\n",
       "</style>\n",
       "<table border=\"1\" class=\"dataframe\">\n",
       "  <thead>\n",
       "    <tr style=\"text-align: right;\">\n",
       "      <th></th>\n",
       "      <th>age</th>\n",
       "      <th>workclass</th>\n",
       "      <th>fnlwgt</th>\n",
       "      <th>education</th>\n",
       "      <th>educational-num</th>\n",
       "      <th>marital-status</th>\n",
       "      <th>occupation</th>\n",
       "      <th>relationship</th>\n",
       "      <th>race</th>\n",
       "      <th>gender</th>\n",
       "      <th>capital-gain</th>\n",
       "      <th>capital-loss</th>\n",
       "      <th>hours-per-week</th>\n",
       "      <th>native-country</th>\n",
       "      <th>income</th>\n",
       "    </tr>\n",
       "  </thead>\n",
       "  <tbody>\n",
       "    <tr>\n",
       "      <th>0</th>\n",
       "      <td>25</td>\n",
       "      <td>Private</td>\n",
       "      <td>226802</td>\n",
       "      <td>11th</td>\n",
       "      <td>7</td>\n",
       "      <td>Never-married</td>\n",
       "      <td>Machine-op-inspct</td>\n",
       "      <td>Own-child</td>\n",
       "      <td>Black</td>\n",
       "      <td>Male</td>\n",
       "      <td>0</td>\n",
       "      <td>0</td>\n",
       "      <td>40</td>\n",
       "      <td>United-States</td>\n",
       "      <td>&lt;=50K</td>\n",
       "    </tr>\n",
       "    <tr>\n",
       "      <th>1</th>\n",
       "      <td>38</td>\n",
       "      <td>Private</td>\n",
       "      <td>89814</td>\n",
       "      <td>HS-grad</td>\n",
       "      <td>9</td>\n",
       "      <td>Married-civ-spouse</td>\n",
       "      <td>Farming-fishing</td>\n",
       "      <td>Husband</td>\n",
       "      <td>White</td>\n",
       "      <td>Male</td>\n",
       "      <td>0</td>\n",
       "      <td>0</td>\n",
       "      <td>50</td>\n",
       "      <td>United-States</td>\n",
       "      <td>&lt;=50K</td>\n",
       "    </tr>\n",
       "    <tr>\n",
       "      <th>2</th>\n",
       "      <td>28</td>\n",
       "      <td>Local-gov</td>\n",
       "      <td>336951</td>\n",
       "      <td>Assoc-acdm</td>\n",
       "      <td>12</td>\n",
       "      <td>Married-civ-spouse</td>\n",
       "      <td>Protective-serv</td>\n",
       "      <td>Husband</td>\n",
       "      <td>White</td>\n",
       "      <td>Male</td>\n",
       "      <td>0</td>\n",
       "      <td>0</td>\n",
       "      <td>40</td>\n",
       "      <td>United-States</td>\n",
       "      <td>&gt;50K</td>\n",
       "    </tr>\n",
       "    <tr>\n",
       "      <th>3</th>\n",
       "      <td>44</td>\n",
       "      <td>Private</td>\n",
       "      <td>160323</td>\n",
       "      <td>Some-college</td>\n",
       "      <td>10</td>\n",
       "      <td>Married-civ-spouse</td>\n",
       "      <td>Machine-op-inspct</td>\n",
       "      <td>Husband</td>\n",
       "      <td>Black</td>\n",
       "      <td>Male</td>\n",
       "      <td>7688</td>\n",
       "      <td>0</td>\n",
       "      <td>40</td>\n",
       "      <td>United-States</td>\n",
       "      <td>&gt;50K</td>\n",
       "    </tr>\n",
       "    <tr>\n",
       "      <th>4</th>\n",
       "      <td>18</td>\n",
       "      <td>?</td>\n",
       "      <td>103497</td>\n",
       "      <td>Some-college</td>\n",
       "      <td>10</td>\n",
       "      <td>Never-married</td>\n",
       "      <td>?</td>\n",
       "      <td>Own-child</td>\n",
       "      <td>White</td>\n",
       "      <td>Female</td>\n",
       "      <td>0</td>\n",
       "      <td>0</td>\n",
       "      <td>30</td>\n",
       "      <td>United-States</td>\n",
       "      <td>&lt;=50K</td>\n",
       "    </tr>\n",
       "  </tbody>\n",
       "</table>\n",
       "</div>"
      ],
      "text/plain": [
       "   age  workclass  fnlwgt     education  educational-num      marital-status  \\\n",
       "0   25    Private  226802          11th                7       Never-married   \n",
       "1   38    Private   89814       HS-grad                9  Married-civ-spouse   \n",
       "2   28  Local-gov  336951    Assoc-acdm               12  Married-civ-spouse   \n",
       "3   44    Private  160323  Some-college               10  Married-civ-spouse   \n",
       "4   18          ?  103497  Some-college               10       Never-married   \n",
       "\n",
       "          occupation relationship   race  gender  capital-gain  capital-loss  \\\n",
       "0  Machine-op-inspct    Own-child  Black    Male             0             0   \n",
       "1    Farming-fishing      Husband  White    Male             0             0   \n",
       "2    Protective-serv      Husband  White    Male             0             0   \n",
       "3  Machine-op-inspct      Husband  Black    Male          7688             0   \n",
       "4                  ?    Own-child  White  Female             0             0   \n",
       "\n",
       "   hours-per-week native-country income  \n",
       "0              40  United-States  <=50K  \n",
       "1              50  United-States  <=50K  \n",
       "2              40  United-States   >50K  \n",
       "3              40  United-States   >50K  \n",
       "4              30  United-States  <=50K  "
      ]
     },
     "execution_count": 2,
     "metadata": {},
     "output_type": "execute_result"
    }
   ],
   "source": [
    "df = pd.read_csv('adult.csv')\n",
    "df.head()"
   ]
  },
  {
   "cell_type": "code",
   "execution_count": 3,
   "id": "4RElSOYfyRTI",
   "metadata": {
    "id": "4RElSOYfyRTI"
   },
   "outputs": [],
   "source": [
    "#from google.colab import drive\n",
    "#drive.mount('/content/drive')\n",
    "#df = pd.read_csv('/content/drive/MyDrive/adult.csv')\n",
    "#df.head()"
   ]
  },
  {
   "cell_type": "code",
   "execution_count": 4,
   "id": "IAJof8To3IHy",
   "metadata": {
    "colab": {
     "base_uri": "https://localhost:8080/"
    },
    "executionInfo": {
     "elapsed": 16,
     "status": "ok",
     "timestamp": 1656680716601,
     "user": {
      "displayName": "Vikas HM",
      "userId": "18207387345907596827"
     },
     "user_tz": -330
    },
    "id": "IAJof8To3IHy",
    "outputId": "1f329650-c16e-485f-be9c-5d4409c99f5e"
   },
   "outputs": [
    {
     "name": "stdout",
     "output_type": "stream",
     "text": [
      "<class 'pandas.core.frame.DataFrame'>\n",
      "RangeIndex: 2021 entries, 0 to 2020\n",
      "Data columns (total 15 columns):\n",
      " #   Column           Non-Null Count  Dtype \n",
      "---  ------           --------------  ----- \n",
      " 0   age              2021 non-null   int64 \n",
      " 1   workclass        2021 non-null   object\n",
      " 2   fnlwgt           2021 non-null   int64 \n",
      " 3   education        2021 non-null   object\n",
      " 4   educational-num  2021 non-null   int64 \n",
      " 5   marital-status   2021 non-null   object\n",
      " 6   occupation       2021 non-null   object\n",
      " 7   relationship     2021 non-null   object\n",
      " 8   race             2021 non-null   object\n",
      " 9   gender           2021 non-null   object\n",
      " 10  capital-gain     2021 non-null   int64 \n",
      " 11  capital-loss     2021 non-null   int64 \n",
      " 12  hours-per-week   2021 non-null   int64 \n",
      " 13  native-country   2021 non-null   object\n",
      " 14  income           2021 non-null   object\n",
      "dtypes: int64(6), object(9)\n",
      "memory usage: 237.0+ KB\n"
     ]
    }
   ],
   "source": [
    "## Checking the shape and info\n",
    "df.info()"
   ]
  },
  {
   "cell_type": "markdown",
   "id": "NP7R3qkA3a_7",
   "metadata": {
    "id": "NP7R3qkA3a_7"
   },
   "source": [
    "- We have 2021 intances and 15 columns in the dataset.\n",
    "- There are no missing values in the dataset.\n",
    "- We have around 9 object type variables and rest all interger datatype variables."
   ]
  },
  {
   "cell_type": "markdown",
   "id": "e131d7b8",
   "metadata": {
    "id": "e131d7b8"
   },
   "source": [
    "### Q2. At a first glance of our dataset, we can see that missing values are present in the form of \"?\" in \"workclass\",\"occupation\", \"native-country\". Remove them."
   ]
  },
  {
   "cell_type": "code",
   "execution_count": 5,
   "id": "ca6c709f",
   "metadata": {
    "id": "ca6c709f"
   },
   "outputs": [],
   "source": [
    "## Encode '?' as \"NAN\"\n",
    "df[df == '?'] = np.nan\n",
    "\n",
    "## Now filling \"NAN\" with the most frequent value- the mode.\n",
    "for col in ['workclass', 'occupation', 'native-country']:\n",
    "    df[col].fillna(df[col].mode()[0], inplace=True)"
   ]
  },
  {
   "cell_type": "code",
   "execution_count": 6,
   "id": "1133806b",
   "metadata": {
    "colab": {
     "base_uri": "https://localhost:8080/"
    },
    "executionInfo": {
     "elapsed": 12,
     "status": "ok",
     "timestamp": 1656680716601,
     "user": {
      "displayName": "Vikas HM",
      "userId": "18207387345907596827"
     },
     "user_tz": -330
    },
    "id": "1133806b",
    "outputId": "ecc508dc-c098-4241-a7d9-5ac35cf9415d"
   },
   "outputs": [
    {
     "name": "stdout",
     "output_type": "stream",
     "text": [
      "The missing value of each columns of the dataframe \n",
      " age                0\n",
      "workclass          0\n",
      "fnlwgt             0\n",
      "education          0\n",
      "educational-num    0\n",
      "marital-status     0\n",
      "occupation         0\n",
      "relationship       0\n",
      "race               0\n",
      "gender             0\n",
      "capital-gain       0\n",
      "capital-loss       0\n",
      "hours-per-week     0\n",
      "native-country     0\n",
      "income             0\n",
      "dtype: int64\n"
     ]
    }
   ],
   "source": [
    "print(\"The missing value of each columns of the dataframe \\n\",(df.isnull().sum()))"
   ]
  },
  {
   "cell_type": "markdown",
   "id": "0866d5e0",
   "metadata": {
    "id": "0866d5e0"
   },
   "source": [
    "### Q3.Check the statistical summary of the data frame and write your findings."
   ]
  },
  {
   "cell_type": "code",
   "execution_count": 8,
   "id": "0aafa509",
   "metadata": {
    "colab": {
     "base_uri": "https://localhost:8080/",
     "height": 300
    },
    "executionInfo": {
     "elapsed": 10,
     "status": "ok",
     "timestamp": 1656680716602,
     "user": {
      "displayName": "Vikas HM",
      "userId": "18207387345907596827"
     },
     "user_tz": -330
    },
    "id": "0aafa509",
    "outputId": "dc73689e-eb25-46ce-9ce7-708411a7b865"
   },
   "outputs": [
    {
     "data": {
      "text/html": [
       "<div>\n",
       "<style scoped>\n",
       "    .dataframe tbody tr th:only-of-type {\n",
       "        vertical-align: middle;\n",
       "    }\n",
       "\n",
       "    .dataframe tbody tr th {\n",
       "        vertical-align: top;\n",
       "    }\n",
       "\n",
       "    .dataframe thead th {\n",
       "        text-align: right;\n",
       "    }\n",
       "</style>\n",
       "<table border=\"1\" class=\"dataframe\">\n",
       "  <thead>\n",
       "    <tr style=\"text-align: right;\">\n",
       "      <th></th>\n",
       "      <th>age</th>\n",
       "      <th>fnlwgt</th>\n",
       "      <th>educational-num</th>\n",
       "      <th>capital-gain</th>\n",
       "      <th>capital-loss</th>\n",
       "      <th>hours-per-week</th>\n",
       "    </tr>\n",
       "  </thead>\n",
       "  <tbody>\n",
       "    <tr>\n",
       "      <th>count</th>\n",
       "      <td>2021.000000</td>\n",
       "      <td>2021.000000</td>\n",
       "      <td>2021.000000</td>\n",
       "      <td>2021.000000</td>\n",
       "      <td>2021.000000</td>\n",
       "      <td>2021.000000</td>\n",
       "    </tr>\n",
       "    <tr>\n",
       "      <th>mean</th>\n",
       "      <td>38.573973</td>\n",
       "      <td>185621.657100</td>\n",
       "      <td>10.031667</td>\n",
       "      <td>1371.680851</td>\n",
       "      <td>85.367145</td>\n",
       "      <td>40.533399</td>\n",
       "    </tr>\n",
       "    <tr>\n",
       "      <th>std</th>\n",
       "      <td>13.721887</td>\n",
       "      <td>99247.776981</td>\n",
       "      <td>2.681249</td>\n",
       "      <td>8927.426392</td>\n",
       "      <td>397.758747</td>\n",
       "      <td>12.129234</td>\n",
       "    </tr>\n",
       "    <tr>\n",
       "      <th>min</th>\n",
       "      <td>17.000000</td>\n",
       "      <td>13769.000000</td>\n",
       "      <td>1.000000</td>\n",
       "      <td>0.000000</td>\n",
       "      <td>0.000000</td>\n",
       "      <td>1.000000</td>\n",
       "    </tr>\n",
       "    <tr>\n",
       "      <th>25%</th>\n",
       "      <td>27.000000</td>\n",
       "      <td>115562.000000</td>\n",
       "      <td>9.000000</td>\n",
       "      <td>0.000000</td>\n",
       "      <td>0.000000</td>\n",
       "      <td>40.000000</td>\n",
       "    </tr>\n",
       "    <tr>\n",
       "      <th>50%</th>\n",
       "      <td>37.000000</td>\n",
       "      <td>176520.000000</td>\n",
       "      <td>10.000000</td>\n",
       "      <td>0.000000</td>\n",
       "      <td>0.000000</td>\n",
       "      <td>40.000000</td>\n",
       "    </tr>\n",
       "    <tr>\n",
       "      <th>75%</th>\n",
       "      <td>48.000000</td>\n",
       "      <td>235218.000000</td>\n",
       "      <td>13.000000</td>\n",
       "      <td>0.000000</td>\n",
       "      <td>0.000000</td>\n",
       "      <td>45.000000</td>\n",
       "    </tr>\n",
       "    <tr>\n",
       "      <th>max</th>\n",
       "      <td>90.000000</td>\n",
       "      <td>662460.000000</td>\n",
       "      <td>16.000000</td>\n",
       "      <td>99999.000000</td>\n",
       "      <td>3004.000000</td>\n",
       "      <td>99.000000</td>\n",
       "    </tr>\n",
       "  </tbody>\n",
       "</table>\n",
       "</div>"
      ],
      "text/plain": [
       "               age         fnlwgt  educational-num  capital-gain  \\\n",
       "count  2021.000000    2021.000000      2021.000000   2021.000000   \n",
       "mean     38.573973  185621.657100        10.031667   1371.680851   \n",
       "std      13.721887   99247.776981         2.681249   8927.426392   \n",
       "min      17.000000   13769.000000         1.000000      0.000000   \n",
       "25%      27.000000  115562.000000         9.000000      0.000000   \n",
       "50%      37.000000  176520.000000        10.000000      0.000000   \n",
       "75%      48.000000  235218.000000        13.000000      0.000000   \n",
       "max      90.000000  662460.000000        16.000000  99999.000000   \n",
       "\n",
       "       capital-loss  hours-per-week  \n",
       "count   2021.000000     2021.000000  \n",
       "mean      85.367145       40.533399  \n",
       "std      397.758747       12.129234  \n",
       "min        0.000000        1.000000  \n",
       "25%        0.000000       40.000000  \n",
       "50%        0.000000       40.000000  \n",
       "75%        0.000000       45.000000  \n",
       "max     3004.000000       99.000000  "
      ]
     },
     "execution_count": 8,
     "metadata": {},
     "output_type": "execute_result"
    }
   ],
   "source": [
    "df.describe()"
   ]
  },
  {
   "cell_type": "markdown",
   "id": "44eb81db",
   "metadata": {
    "id": "44eb81db"
   },
   "source": [
    "- Capital gain ranges between 0-99,999 dollars\n",
    "- The maximum working hours per week is 99 hrs.\n",
    "- On an average the value of age attribute is 38"
   ]
  },
  {
   "cell_type": "code",
   "execution_count": 9,
   "id": "a16a5daf",
   "metadata": {
    "colab": {
     "base_uri": "https://localhost:8080/",
     "height": 175
    },
    "executionInfo": {
     "elapsed": 9,
     "status": "ok",
     "timestamp": 1656680716602,
     "user": {
      "displayName": "Vikas HM",
      "userId": "18207387345907596827"
     },
     "user_tz": -330
    },
    "id": "a16a5daf",
    "outputId": "1203ebfa-bfb2-4200-f216-d37d493b2ffb"
   },
   "outputs": [
    {
     "data": {
      "text/html": [
       "<div>\n",
       "<style scoped>\n",
       "    .dataframe tbody tr th:only-of-type {\n",
       "        vertical-align: middle;\n",
       "    }\n",
       "\n",
       "    .dataframe tbody tr th {\n",
       "        vertical-align: top;\n",
       "    }\n",
       "\n",
       "    .dataframe thead th {\n",
       "        text-align: right;\n",
       "    }\n",
       "</style>\n",
       "<table border=\"1\" class=\"dataframe\">\n",
       "  <thead>\n",
       "    <tr style=\"text-align: right;\">\n",
       "      <th></th>\n",
       "      <th>workclass</th>\n",
       "      <th>education</th>\n",
       "      <th>marital-status</th>\n",
       "      <th>occupation</th>\n",
       "      <th>relationship</th>\n",
       "      <th>race</th>\n",
       "      <th>gender</th>\n",
       "      <th>native-country</th>\n",
       "      <th>income</th>\n",
       "    </tr>\n",
       "  </thead>\n",
       "  <tbody>\n",
       "    <tr>\n",
       "      <th>count</th>\n",
       "      <td>2021</td>\n",
       "      <td>2021</td>\n",
       "      <td>2021</td>\n",
       "      <td>2021</td>\n",
       "      <td>2021</td>\n",
       "      <td>2021</td>\n",
       "      <td>2021</td>\n",
       "      <td>2021</td>\n",
       "      <td>2021</td>\n",
       "    </tr>\n",
       "    <tr>\n",
       "      <th>unique</th>\n",
       "      <td>6</td>\n",
       "      <td>16</td>\n",
       "      <td>7</td>\n",
       "      <td>14</td>\n",
       "      <td>6</td>\n",
       "      <td>5</td>\n",
       "      <td>2</td>\n",
       "      <td>34</td>\n",
       "      <td>2</td>\n",
       "    </tr>\n",
       "    <tr>\n",
       "      <th>top</th>\n",
       "      <td>Private</td>\n",
       "      <td>HS-grad</td>\n",
       "      <td>Married-civ-spouse</td>\n",
       "      <td>Exec-managerial</td>\n",
       "      <td>Husband</td>\n",
       "      <td>White</td>\n",
       "      <td>Male</td>\n",
       "      <td>United-States</td>\n",
       "      <td>&lt;=50K</td>\n",
       "    </tr>\n",
       "    <tr>\n",
       "      <th>freq</th>\n",
       "      <td>1485</td>\n",
       "      <td>628</td>\n",
       "      <td>939</td>\n",
       "      <td>400</td>\n",
       "      <td>825</td>\n",
       "      <td>1718</td>\n",
       "      <td>1357</td>\n",
       "      <td>1858</td>\n",
       "      <td>1535</td>\n",
       "    </tr>\n",
       "  </tbody>\n",
       "</table>\n",
       "</div>"
      ],
      "text/plain": [
       "       workclass education      marital-status       occupation relationship  \\\n",
       "count       2021      2021                2021             2021         2021   \n",
       "unique         6        16                   7               14            6   \n",
       "top      Private   HS-grad  Married-civ-spouse  Exec-managerial      Husband   \n",
       "freq        1485       628                 939              400          825   \n",
       "\n",
       "         race gender native-country income  \n",
       "count    2021   2021           2021   2021  \n",
       "unique      5      2             34      2  \n",
       "top     White   Male  United-States  <=50K  \n",
       "freq     1718   1357           1858   1535  "
      ]
     },
     "execution_count": 9,
     "metadata": {},
     "output_type": "execute_result"
    }
   ],
   "source": [
    "df.describe(include='O')"
   ]
  },
  {
   "cell_type": "markdown",
   "id": "28013157",
   "metadata": {
    "id": "28013157"
   },
   "source": [
    "- There are 9 Categorical features.\n",
    "- Native-country has maximum number of unique categories i.e. 34 categories.\n",
    "- But the native-country is highly biased toward the US which has frequency of 1858 out of total 2021(nearly 91%)."
   ]
  },
  {
   "cell_type": "markdown",
   "id": "cbfef09c",
   "metadata": {
    "id": "cbfef09c"
   },
   "source": [
    "## Exploratory Data Analysis"
   ]
  },
  {
   "cell_type": "markdown",
   "id": "6b8e0ac5",
   "metadata": {
    "id": "6b8e0ac5"
   },
   "source": [
    "### Using Visualization plots answer the following questions"
   ]
  },
  {
   "cell_type": "markdown",
   "id": "883768af",
   "metadata": {
    "id": "883768af"
   },
   "source": [
    "### Q4. What is the general working hours in a week for an individual?"
   ]
  },
  {
   "cell_type": "code",
   "execution_count": 10,
   "id": "ff9e24c2",
   "metadata": {
    "colab": {
     "base_uri": "https://localhost:8080/",
     "height": 320
    },
    "executionInfo": {
     "elapsed": 1996,
     "status": "ok",
     "timestamp": 1656679646718,
     "user": {
      "displayName": "Vikas HM",
      "userId": "18207387345907596827"
     },
     "user_tz": -330
    },
    "id": "ff9e24c2",
    "outputId": "eba3efc1-8820-47c6-d800-eb0362b5454b"
   },
   "outputs": [
    {
     "data": {
      "image/png": "[encoded data removed]",
      "text/plain": [
       "<Figure size 800x500 with 1 Axes>"
      ]
     },
     "metadata": {},
     "output_type": "display_data"
    }
   ],
   "source": [
    "df['hours-per-week'].hist(figsize=(8,5))\n",
    "plt.show()"
   ]
  },
  {
   "cell_type": "markdown",
   "id": "fe5f9c16",
   "metadata": {
    "id": "fe5f9c16"
   },
   "source": [
    "- Most people work 30-40 hours per week, they are roughly 1200 people.\n",
    "- There are also few people who works 80-100 hours per week and some less than 20 which is unusual."
   ]
  },
  {
   "cell_type": "markdown",
   "id": "0298ce0f",
   "metadata": {
    "id": "0298ce0f"
   },
   "source": [
    "### Q5. What are the different workclass that an individual may belong to?"
   ]
  },
  {
   "cell_type": "code",
   "execution_count": 16,
   "id": "9638c9d3",
   "metadata": {
    "colab": {
     "base_uri": "https://localhost:8080/",
     "height": 497
    },
    "executionInfo": {
     "elapsed": 826,
     "status": "ok",
     "timestamp": 1656679713274,
     "user": {
      "displayName": "Vikas HM",
      "userId": "18207387345907596827"
     },
     "user_tz": -330
    },
    "id": "9638c9d3",
    "outputId": "b0ba22d6-f78d-4bb6-c80e-962ae7a45b41"
   },
   "outputs": [
    {
     "data": {
      "image/png": "[encoded data removed]",
      "text/plain": [
       "<Figure size 1200x800 with 1 Axes>"
      ]
     },
     "metadata": {},
     "output_type": "display_data"
    }
   ],
   "source": [
    "plt.figure(figsize = (12,8))\n",
    "sns.countplot(df['workclass'])\n",
    "plt.show()"
   ]
  },
  {
   "cell_type": "markdown",
   "id": "79a13a83",
   "metadata": {
    "id": "79a13a83"
   },
   "source": [
    "- There are 6 unique categories present in the worclass attribute.\n",
    "- Most of them belong to the private workclass around 75%."
   ]
  },
  {
   "cell_type": "markdown",
   "id": "914eb888",
   "metadata": {
    "id": "914eb888"
   },
   "source": [
    "### Q6. What are the different education level?"
   ]
  },
  {
   "cell_type": "code",
   "execution_count": 17,
   "id": "4ccbbde9",
   "metadata": {
    "colab": {
     "base_uri": "https://localhost:8080/",
     "height": 497
    },
    "executionInfo": {
     "elapsed": 7,
     "status": "ok",
     "timestamp": 1656679742348,
     "user": {
      "displayName": "Vikas HM",
      "userId": "18207387345907596827"
     },
     "user_tz": -330
    },
    "id": "4ccbbde9",
    "outputId": "4c1117ef-7a0f-4c8a-cc5b-8e85dcb3fcf9"
   },
   "outputs": [
    {
     "data": {
      "image/png": "[encoded data removed]",
      "text/plain": [
       "<Figure size 1800x800 with 1 Axes>"
      ]
     },
     "metadata": {},
     "output_type": "display_data"
    }
   ],
   "source": [
    "plt.figure(figsize = (18,8))\n",
    "sns.countplot(df['education'])\n",
    "plt.show()"
   ]
  },
  {
   "cell_type": "markdown",
   "id": "9092537e",
   "metadata": {
    "id": "9092537e"
   },
   "source": [
    "- There are 16 unique categories present in the education attribute.\n",
    "- HS-grad (650) has the maximum number of observations followed by some-college(430) and Bachelors(350)."
   ]
  },
  {
   "cell_type": "markdown",
   "id": "62c6edaf",
   "metadata": {
    "id": "62c6edaf"
   },
   "source": [
    "### Q7. Comment on the marital status of the people."
   ]
  },
  {
   "cell_type": "code",
   "execution_count": 18,
   "id": "5e2b6459",
   "metadata": {
    "colab": {
     "base_uri": "https://localhost:8080/",
     "height": 497
    },
    "executionInfo": {
     "elapsed": 825,
     "status": "ok",
     "timestamp": 1656679759858,
     "user": {
      "displayName": "Vikas HM",
      "userId": "18207387345907596827"
     },
     "user_tz": -330
    },
    "id": "5e2b6459",
    "outputId": "6ec5af50-7250-4d9c-c05b-9c2981732f54"
   },
   "outputs": [
    {
     "data": {
      "image/png": "[encoded data removed]",
      "text/plain": [
       "<Figure size 1400x800 with 1 Axes>"
      ]
     },
     "metadata": {},
     "output_type": "display_data"
    }
   ],
   "source": [
    "plt.figure(figsize = (14,8))\n",
    "sns.countplot(df['marital-status'])\n",
    "plt.show()"
   ]
  },
  {
   "cell_type": "markdown",
   "id": "d7b1cba0",
   "metadata": {
    "id": "d7b1cba0"
   },
   "source": [
    "- marital-status attribute has 7 unique categories.\n",
    "- Two of them are dominate over other categories(these are Never-married and married-civ-spouse.\n",
    "- Married-civ-spouse has maximum number of samples."
   ]
  },
  {
   "cell_type": "markdown",
   "id": "1ebf9669",
   "metadata": {
    "id": "1ebf9669"
   },
   "source": [
    "### Q8. What is the gender distribution?"
   ]
  },
  {
   "cell_type": "code",
   "execution_count": 19,
   "id": "d076b18b",
   "metadata": {
    "colab": {
     "base_uri": "https://localhost:8080/",
     "height": 334
    },
    "executionInfo": {
     "elapsed": 914,
     "status": "ok",
     "timestamp": 1656679780234,
     "user": {
      "displayName": "Vikas HM",
      "userId": "18207387345907596827"
     },
     "user_tz": -330
    },
    "id": "d076b18b",
    "outputId": "0d5fb77d-c687-4b99-edcb-32cfc739a6f2"
   },
   "outputs": [
    {
     "data": {
      "image/png": "[encoded data removed]",
      "text/plain": [
       "<Figure size 1000x500 with 1 Axes>"
      ]
     },
     "metadata": {},
     "output_type": "display_data"
    }
   ],
   "source": [
    "plt.figure(figsize = (10,5))\n",
    "sns.countplot(df['gender'])\n",
    "plt.show()"
   ]
  },
  {
   "cell_type": "markdown",
   "id": "59f24140",
   "metadata": {
    "id": "59f24140"
   },
   "source": [
    "- Gender has 2 unique categories(male and female).\n",
    "- But the frequency of male(1380) is higher than the female(750) categories."
   ]
  },
  {
   "cell_type": "markdown",
   "id": "e437d6ae",
   "metadata": {
    "id": "e437d6ae"
   },
   "source": [
    "## Let's perform some bivariate analysis"
   ]
  },
  {
   "cell_type": "markdown",
   "id": "1b592e88",
   "metadata": {
    "id": "1b592e88"
   },
   "source": [
    "### Q9 a). Find the relationship between 'Age' and 'income'."
   ]
  },
  {
   "cell_type": "code",
   "execution_count": 20,
   "id": "7bc5869d",
   "metadata": {
    "colab": {
     "base_uri": "https://localhost:8080/",
     "height": 385
    },
    "executionInfo": {
     "elapsed": 590,
     "status": "ok",
     "timestamp": 1656679800663,
     "user": {
      "displayName": "Vikas HM",
      "userId": "18207387345907596827"
     },
     "user_tz": -330
    },
    "id": "7bc5869d",
    "outputId": "9980b0af-5128-43b8-b1a3-9e3ec512bf10"
   },
   "outputs": [
    {
     "data": {
      "image/png": "[encoded data removed]",
      "text/plain": [
       "<Figure size 1000x500 with 1 Axes>"
      ]
     },
     "metadata": {},
     "output_type": "display_data"
    }
   ],
   "source": [
    "sns.catplot(data=df, x='income', y='age', kind= 'box', aspect=2)\n",
    "plt.title('Relationship between Income and Age')\n",
    "plt.show()"
   ]
  },
  {
   "cell_type": "markdown",
   "id": "c33b5ee7",
   "metadata": {
    "id": "c33b5ee7"
   },
   "source": [
    "- Most of the people having income less than or equal to 50K are between age 25-45\n",
    "- Most of the people having income more than 50K are between age 37-50"
   ]
  },
  {
   "cell_type": "markdown",
   "id": "60d58704",
   "metadata": {
    "id": "60d58704"
   },
   "source": [
    "### Q9 b). Find whether people with more working hours per week tends to get more income?"
   ]
  },
  {
   "cell_type": "code",
   "execution_count": 21,
   "id": "a307e860",
   "metadata": {
    "id": "a307e860",
    "outputId": "8352a39e-5378-4935-81a2-b57701306793"
   },
   "outputs": [
    {
     "data": {
      "image/png": "[encoded data removed]",
      "text/plain": [
       "<Figure size 1000x500 with 1 Axes>"
      ]
     },
     "metadata": {},
     "output_type": "display_data"
    }
   ],
   "source": [
    "sns.catplot(data=df, x='income', y='hours-per-week', kind= 'box', aspect=2)\n",
    "plt.title('Relationship between Income and Working hours per week')\n",
    "plt.show()"
   ]
  },
  {
   "cell_type": "markdown",
   "id": "71615b09",
   "metadata": {
    "id": "71615b09"
   },
   "source": [
    "- Income group who earns >50k has spend ~44 \"hours-per-week\".(long hours)\n",
    "- Income group who earns <=50k has spend ~37 \"hours-per-week\"."
   ]
  },
  {
   "cell_type": "markdown",
   "id": "f0fd7df7",
   "metadata": {
    "id": "f0fd7df7"
   },
   "source": [
    "### Q10. Find the relationship between \"Workingclass\" and \"income\""
   ]
  },
  {
   "cell_type": "code",
   "execution_count": 22,
   "id": "c5c574ab",
   "metadata": {
    "colab": {
     "base_uri": "https://localhost:8080/",
     "height": 497
    },
    "executionInfo": {
     "elapsed": 637,
     "status": "ok",
     "timestamp": 1656680872876,
     "user": {
      "displayName": "Vikas HM",
      "userId": "18207387345907596827"
     },
     "user_tz": -330
    },
    "id": "c5c574ab",
    "outputId": "d5805f25-ce46-4153-db60-0183a20777e9"
   },
   "outputs": [
    {
     "data": {
      "image/png": "[encoded data removed]",
      "text/plain": [
       "<Figure size 1200x800 with 1 Axes>"
      ]
     },
     "metadata": {},
     "output_type": "display_data"
    }
   ],
   "source": [
    "plt.figure(figsize = (12,8))\n",
    "sns.countplot(data = df ,x='workclass',hue='income')\n",
    "plt.show()"
   ]
  },
  {
   "cell_type": "markdown",
   "id": "04eab67a",
   "metadata": {
    "id": "04eab67a"
   },
   "source": [
    "- In private workclass most of the people earn <=50k"
   ]
  },
  {
   "cell_type": "markdown",
   "id": "567b2235",
   "metadata": {
    "id": "567b2235"
   },
   "source": [
    "### Q11. Does higher education means that the person will get higher income?"
   ]
  },
  {
   "cell_type": "code",
   "execution_count": 23,
   "id": "8fb3f86c",
   "metadata": {
    "colab": {
     "base_uri": "https://localhost:8080/",
     "height": 497
    },
    "executionInfo": {
     "elapsed": 1283,
     "status": "ok",
     "timestamp": 1656679849147,
     "user": {
      "displayName": "Vikas HM",
      "userId": "18207387345907596827"
     },
     "user_tz": -330
    },
    "id": "8fb3f86c",
    "outputId": "c2286c40-59ce-45b9-b21f-722b0093f90b"
   },
   "outputs": [
    {
     "data": {
      "image/png": "[encoded data removed]",
      "text/plain": [
       "<Figure size 1800x800 with 1 Axes>"
      ]
     },
     "metadata": {},
     "output_type": "display_data"
    }
   ],
   "source": [
    "plt.figure(figsize = (18,8))\n",
    "sns.countplot(data = df ,x='education',hue='income')\n",
    "plt.show()"
   ]
  },
  {
   "cell_type": "markdown",
   "id": "7c00f531",
   "metadata": {
    "id": "7c00f531"
   },
   "source": [
    "- Despite the fact that most of the categories fall under the HS-grad but the interesting thing is only 5.0% of all people belong to the income group 1(i.e. earns more than 50k)\n",
    "- Categories such as 'Prof-school', 'Masters' & 'Doctorate' have people who earn more than 50k. \n",
    "- We can also infer that higher eduction may provide better earnings."
   ]
  },
  {
   "cell_type": "markdown",
   "id": "6002f499",
   "metadata": {
    "id": "6002f499"
   },
   "source": [
    "### Q12. Who has better chance to get income greater than 50K, Male or Female?"
   ]
  },
  {
   "cell_type": "code",
   "execution_count": 24,
   "id": "3294ac5a",
   "metadata": {
    "colab": {
     "base_uri": "https://localhost:8080/",
     "height": 388
    },
    "executionInfo": {
     "elapsed": 821,
     "status": "ok",
     "timestamp": 1656679881102,
     "user": {
      "displayName": "Vikas HM",
      "userId": "18207387345907596827"
     },
     "user_tz": -330
    },
    "id": "3294ac5a",
    "outputId": "085df2d6-bcb7-442f-a724-92a88b6ff0f4"
   },
   "outputs": [
    {
     "data": {
      "image/png": "[encoded data removed]",
      "text/plain": [
       "<Figure size 800x600 with 1 Axes>"
      ]
     },
     "metadata": {},
     "output_type": "display_data"
    }
   ],
   "source": [
    "plt.figure(figsize = (8,6))\n",
    "sns.countplot(data = df ,x='gender',hue='income')\n",
    "plt.show()"
   ]
  },
  {
   "cell_type": "markdown",
   "id": "055ff733",
   "metadata": {
    "id": "055ff733"
   },
   "source": [
    "- For \"female\" earning more than 50k is less.\n",
    "- But for male, around 20.0% of all people earn more than 50k ."
   ]
  },
  {
   "cell_type": "markdown",
   "id": "b2ba7117",
   "metadata": {
    "id": "b2ba7117"
   },
   "source": [
    "## Data preprocessing"
   ]
  },
  {
   "cell_type": "markdown",
   "id": "9a1fcb43",
   "metadata": {
    "id": "9a1fcb43"
   },
   "source": [
    "### Q13. Encode the categorical features in the dataset and apply data standardization."
   ]
  },
  {
   "cell_type": "code",
   "execution_count": 25,
   "id": "24843ed8",
   "metadata": {
    "id": "24843ed8"
   },
   "outputs": [],
   "source": [
    "df_cat = df.select_dtypes(include='object')\n",
    "#df_cat = df_cat.replace(to_replace =\"?\",value =\"Private\")"
   ]
  },
  {
   "cell_type": "code",
   "execution_count": 26,
   "id": "04a14e96",
   "metadata": {
    "id": "04a14e96"
   },
   "outputs": [],
   "source": [
    "## Label encoding\n",
    "le = LabelEncoder()\n",
    "for col in df_cat:\n",
    "    df[col] = le.fit_transform(df[col])"
   ]
  },
  {
   "cell_type": "code",
   "execution_count": 27,
   "id": "62052d50",
   "metadata": {
    "id": "62052d50"
   },
   "outputs": [],
   "source": [
    "## Standardization\n",
    "df1 = df.copy()\n",
    "scaled_features = StandardScaler().fit_transform(df1.values)\n",
    "scaled_features_df = pd.DataFrame(scaled_features, index=df1.index, columns=df1.columns)"
   ]
  },
  {
   "cell_type": "code",
   "execution_count": 28,
   "id": "c0d7074b",
   "metadata": {
    "colab": {
     "base_uri": "https://localhost:8080/",
     "height": 288
    },
    "executionInfo": {
     "elapsed": 414,
     "status": "ok",
     "timestamp": 1656680072898,
     "user": {
      "displayName": "Vikas HM",
      "userId": "18207387345907596827"
     },
     "user_tz": -330
    },
    "id": "c0d7074b",
    "outputId": "353082ed-2eb7-46fb-d472-6e2a116bf476"
   },
   "outputs": [
    {
     "data": {
      "text/html": [
       "<div>\n",
       "<style scoped>\n",
       "    .dataframe tbody tr th:only-of-type {\n",
       "        vertical-align: middle;\n",
       "    }\n",
       "\n",
       "    .dataframe tbody tr th {\n",
       "        vertical-align: top;\n",
       "    }\n",
       "\n",
       "    .dataframe thead th {\n",
       "        text-align: right;\n",
       "    }\n",
       "</style>\n",
       "<table border=\"1\" class=\"dataframe\">\n",
       "  <thead>\n",
       "    <tr style=\"text-align: right;\">\n",
       "      <th></th>\n",
       "      <th>age</th>\n",
       "      <th>workclass</th>\n",
       "      <th>fnlwgt</th>\n",
       "      <th>education</th>\n",
       "      <th>educational-num</th>\n",
       "      <th>marital-status</th>\n",
       "      <th>occupation</th>\n",
       "      <th>relationship</th>\n",
       "      <th>race</th>\n",
       "      <th>gender</th>\n",
       "      <th>capital-gain</th>\n",
       "      <th>capital-loss</th>\n",
       "      <th>hours-per-week</th>\n",
       "      <th>native-country</th>\n",
       "      <th>income</th>\n",
       "    </tr>\n",
       "  </thead>\n",
       "  <tbody>\n",
       "    <tr>\n",
       "      <th>0</th>\n",
       "      <td>-0.989465</td>\n",
       "      <td>-0.220328</td>\n",
       "      <td>0.415027</td>\n",
       "      <td>-2.316842</td>\n",
       "      <td>-1.130972</td>\n",
       "      <td>0.889969</td>\n",
       "      <td>0.059056</td>\n",
       "      <td>0.959288</td>\n",
       "      <td>-1.899033</td>\n",
       "      <td>0.699510</td>\n",
       "      <td>-0.153686</td>\n",
       "      <td>-0.214674</td>\n",
       "      <td>-0.043987</td>\n",
       "      <td>0.253553</td>\n",
       "      <td>-0.562683</td>\n",
       "    </tr>\n",
       "    <tr>\n",
       "      <th>1</th>\n",
       "      <td>-0.041839</td>\n",
       "      <td>-0.220328</td>\n",
       "      <td>-0.965577</td>\n",
       "      <td>0.201763</td>\n",
       "      <td>-0.384866</td>\n",
       "      <td>-0.446803</td>\n",
       "      <td>-0.453188</td>\n",
       "      <td>-0.901884</td>\n",
       "      <td>0.400515</td>\n",
       "      <td>0.699510</td>\n",
       "      <td>-0.153686</td>\n",
       "      <td>-0.214674</td>\n",
       "      <td>0.780671</td>\n",
       "      <td>0.253553</td>\n",
       "      <td>-0.562683</td>\n",
       "    </tr>\n",
       "    <tr>\n",
       "      <th>2</th>\n",
       "      <td>-0.770782</td>\n",
       "      <td>-1.239283</td>\n",
       "      <td>1.525140</td>\n",
       "      <td>-0.805679</td>\n",
       "      <td>0.734292</td>\n",
       "      <td>-0.446803</td>\n",
       "      <td>1.083546</td>\n",
       "      <td>-0.901884</td>\n",
       "      <td>0.400515</td>\n",
       "      <td>0.699510</td>\n",
       "      <td>-0.153686</td>\n",
       "      <td>-0.214674</td>\n",
       "      <td>-0.043987</td>\n",
       "      <td>0.253553</td>\n",
       "      <td>1.777199</td>\n",
       "    </tr>\n",
       "    <tr>\n",
       "      <th>3</th>\n",
       "      <td>0.395526</td>\n",
       "      <td>-0.220328</td>\n",
       "      <td>-0.254967</td>\n",
       "      <td>1.209204</td>\n",
       "      <td>-0.011814</td>\n",
       "      <td>-0.446803</td>\n",
       "      <td>0.059056</td>\n",
       "      <td>-0.901884</td>\n",
       "      <td>-1.899033</td>\n",
       "      <td>0.699510</td>\n",
       "      <td>0.707694</td>\n",
       "      <td>-0.214674</td>\n",
       "      <td>-0.043987</td>\n",
       "      <td>0.253553</td>\n",
       "      <td>1.777199</td>\n",
       "    </tr>\n",
       "    <tr>\n",
       "      <th>4</th>\n",
       "      <td>-1.499726</td>\n",
       "      <td>-0.220328</td>\n",
       "      <td>-0.827676</td>\n",
       "      <td>1.209204</td>\n",
       "      <td>-0.011814</td>\n",
       "      <td>0.889969</td>\n",
       "      <td>-0.709311</td>\n",
       "      <td>0.959288</td>\n",
       "      <td>0.400515</td>\n",
       "      <td>-1.429572</td>\n",
       "      <td>-0.153686</td>\n",
       "      <td>-0.214674</td>\n",
       "      <td>-0.868646</td>\n",
       "      <td>0.253553</td>\n",
       "      <td>-0.562683</td>\n",
       "    </tr>\n",
       "  </tbody>\n",
       "</table>\n",
       "</div>"
      ],
      "text/plain": [
       "        age  workclass    fnlwgt  education  educational-num  marital-status  \\\n",
       "0 -0.989465  -0.220328  0.415027  -2.316842        -1.130972        0.889969   \n",
       "1 -0.041839  -0.220328 -0.965577   0.201763        -0.384866       -0.446803   \n",
       "2 -0.770782  -1.239283  1.525140  -0.805679         0.734292       -0.446803   \n",
       "3  0.395526  -0.220328 -0.254967   1.209204        -0.011814       -0.446803   \n",
       "4 -1.499726  -0.220328 -0.827676   1.209204        -0.011814        0.889969   \n",
       "\n",
       "   occupation  relationship      race    gender  capital-gain  capital-loss  \\\n",
       "0    0.059056      0.959288 -1.899033  0.699510     -0.153686     -0.214674   \n",
       "1   -0.453188     -0.901884  0.400515  0.699510     -0.153686     -0.214674   \n",
       "2    1.083546     -0.901884  0.400515  0.699510     -0.153686     -0.214674   \n",
       "3    0.059056     -0.901884 -1.899033  0.699510      0.707694     -0.214674   \n",
       "4   -0.709311      0.959288  0.400515 -1.429572     -0.153686     -0.214674   \n",
       "\n",
       "   hours-per-week  native-country    income  \n",
       "0       -0.043987        0.253553 -0.562683  \n",
       "1        0.780671        0.253553 -0.562683  \n",
       "2       -0.043987        0.253553  1.777199  \n",
       "3       -0.043987        0.253553  1.777199  \n",
       "4       -0.868646        0.253553 -0.562683  "
      ]
     },
     "execution_count": 28,
     "metadata": {},
     "output_type": "execute_result"
    }
   ],
   "source": [
    "scaled_features_df.head()"
   ]
  },
  {
   "cell_type": "markdown",
   "id": "85605e04",
   "metadata": {
    "id": "85605e04"
   },
   "source": [
    "## Principal Component Analysis."
   ]
  },
  {
   "cell_type": "markdown",
   "id": "69fcb891",
   "metadata": {
    "id": "69fcb891"
   },
   "source": [
    "### Q14. Apply PCA to reduce dimensionality of the dataset."
   ]
  },
  {
   "cell_type": "code",
   "execution_count": 47,
   "id": "42172ec3",
   "metadata": {
    "colab": {
     "base_uri": "https://localhost:8080/"
    },
    "executionInfo": {
     "elapsed": 332,
     "status": "ok",
     "timestamp": 1656680131287,
     "user": {
      "displayName": "Vikas HM",
      "userId": "18207387345907596827"
     },
     "user_tz": -330
    },
    "id": "42172ec3",
    "outputId": "cc112ee4-c5cf-4b5f-a198-d50327ae7c29"
   },
   "outputs": [
    {
     "name": "stdout",
     "output_type": "stream",
     "text": [
      "Covariance matrix \n",
      " [[ 1.00049505e+00  9.15276998e-02 -8.44182057e-02 -9.03575710e-02\n",
      "  -2.27608225e-02 -2.77385746e-01 -2.69467915e-02 -2.59748396e-01\n",
      "   1.20771077e-02  6.76969032e-02  7.95460244e-02  5.14831433e-02\n",
      "   6.43394289e-02  2.89572373e-02  2.06116489e-01]\n",
      " [ 9.15276998e-02  1.00049505e+00 -2.24837159e-02  7.20451556e-02\n",
      "   8.00069658e-02 -5.33132312e-02  2.63254956e-02 -7.95766286e-02\n",
      "   4.82695598e-02  5.21701189e-02  4.51658533e-02  2.27081776e-02\n",
      "   8.35674445e-02  8.23059323e-03  6.71745501e-02]\n",
      " [-8.44182057e-02 -2.24837159e-02  1.00049505e+00  1.56944047e-03\n",
      "  -4.25729441e-02  4.63336124e-02 -1.90743361e-02 -3.35947821e-03\n",
      "  -6.53773751e-03  2.02176063e-02  2.84153785e-03 -1.81121235e-02\n",
      "   8.63769198e-03 -4.33633510e-02  9.25437720e-04]\n",
      " [-9.03575710e-02  7.20451556e-02  1.56944047e-03  1.00049505e+00\n",
      "   3.86539697e-01 -3.18953899e-02 -3.15288774e-02 -2.16124048e-02\n",
      "  -9.31342988e-03 -1.30681501e-03  4.76332819e-02  4.35894295e-02\n",
      "   4.11241019e-02  7.39584533e-02  9.25789944e-02]\n",
      " [-2.27608225e-02  8.00069658e-02 -4.25729441e-02  3.86539697e-01\n",
      "   1.00049505e+00 -7.86027595e-02  1.01968566e-01 -5.75203847e-02\n",
      "   5.08116313e-02  6.30186889e-03  1.41044292e-01  1.09944565e-01\n",
      "   1.36243342e-01  1.11248725e-01  3.22199194e-01]\n",
      " [-2.77385746e-01 -5.33132312e-02  4.63336124e-02 -3.18953899e-02\n",
      "  -7.86027595e-02  1.00049505e+00 -4.67368715e-02  1.95835376e-01\n",
      "  -5.26491686e-02 -1.71279201e-01 -5.81877196e-02 -1.15093092e-02\n",
      "  -1.52849520e-01  2.31080622e-03 -2.19789829e-01]\n",
      " [-2.69467915e-02  2.63254956e-02 -1.90743361e-02 -3.15288774e-02\n",
      "   1.01968566e-01 -4.67368715e-02  1.00049505e+00 -8.68074587e-02\n",
      "   2.13824363e-02  8.68967516e-02  4.65828178e-03 -2.38816972e-02\n",
      "   6.71445981e-02 -9.96446600e-03  3.41365504e-02]\n",
      " [-2.59748396e-01 -7.95766286e-02 -3.35947821e-03 -2.16124048e-02\n",
      "  -5.75203847e-02  1.95835376e-01 -8.68074587e-02  1.00049505e+00\n",
      "  -1.61931775e-01 -5.72626249e-01 -6.18552960e-02 -1.17792896e-02\n",
      "  -2.77995100e-01  2.87890803e-03 -2.50455229e-01]\n",
      " [ 1.20771077e-02  4.82695598e-02 -6.53773751e-03 -9.31342988e-03\n",
      "   5.08116313e-02 -5.26491686e-02  2.13824363e-02 -1.61931775e-01\n",
      "   1.00049505e+00  1.01433705e-01  9.18517037e-03  5.21780392e-02\n",
      "   3.59325369e-02  1.50565891e-01  5.76616342e-02]\n",
      " [ 6.76969032e-02  5.21701189e-02  2.02176063e-02 -1.30681501e-03\n",
      "   6.30186889e-03 -1.71279201e-01  8.68967516e-02 -5.72626249e-01\n",
      "   1.01433705e-01  1.00049505e+00  6.32747775e-02  4.77562368e-02\n",
      "   2.56513579e-01 -3.52465941e-02  2.11295940e-01]\n",
      " [ 7.95460244e-02  4.51658533e-02  2.84153785e-03  4.76332819e-02\n",
      "   1.41044292e-01 -5.81877196e-02  4.65828178e-03 -6.18552960e-02\n",
      "   9.18517037e-03  6.32747775e-02  1.00049505e+00 -3.30086456e-02\n",
      "   1.10693434e-01  2.98926800e-02  2.37240648e-01]\n",
      " [ 5.14831433e-02  2.27081776e-02 -1.81121235e-02  4.35894295e-02\n",
      "   1.09944565e-01 -1.15093092e-02 -2.38816972e-02 -1.17792896e-02\n",
      "   5.21780392e-02  4.77562368e-02 -3.30086456e-02  1.00049505e+00\n",
      "   3.90243794e-02  3.70318829e-02  1.59810931e-01]\n",
      " [ 6.43394289e-02  8.35674445e-02  8.63769198e-03  4.11241019e-02\n",
      "   1.36243342e-01 -1.52849520e-01  6.71445981e-02 -2.77995100e-01\n",
      "   3.59325369e-02  2.56513579e-01  1.10693434e-01  3.90243794e-02\n",
      "   1.00049505e+00 -9.51404841e-03  2.26085338e-01]\n",
      " [ 2.89572373e-02  8.23059323e-03 -4.33633510e-02  7.39584533e-02\n",
      "   1.11248725e-01  2.31080622e-03 -9.96446600e-03  2.87890803e-03\n",
      "   1.50565891e-01 -3.52465941e-02  2.98926800e-02  3.70318829e-02\n",
      "  -9.51404841e-03  1.00049505e+00  3.30414539e-02]\n",
      " [ 2.06116489e-01  6.71745501e-02  9.25437720e-04  9.25789944e-02\n",
      "   3.22199194e-01 -2.19789829e-01  3.41365504e-02 -2.50455229e-01\n",
      "   5.76616342e-02  2.11295940e-01  2.37240648e-01  1.59810931e-01\n",
      "   2.26085338e-01  3.30414539e-02  1.00049505e+00]]\n"
     ]
    }
   ],
   "source": [
    "## Calculating covariance matrix\n",
    "cov_matrix = np.cov(scaled_features_df.T)\n",
    "print('Covariance matrix','\\n',cov_matrix)"
   ]
  },
  {
   "cell_type": "code",
   "execution_count": 30,
   "id": "595b3049",
   "metadata": {
    "colab": {
     "base_uri": "https://localhost:8080/"
    },
    "executionInfo": {
     "elapsed": 626,
     "status": "ok",
     "timestamp": 1656680134246,
     "user": {
      "displayName": "Vikas HM",
      "userId": "18207387345907596827"
     },
     "user_tz": -330
    },
    "id": "595b3049",
    "outputId": "a48acf14-8f12-4cc6-9bb8-53c4af399b84"
   },
   "outputs": [
    {
     "name": "stdout",
     "output_type": "stream",
     "text": [
      "Eigen vectors: \n",
      " [[ 2.57638184e-01  2.15084959e-01  2.96608763e-01 -2.97518919e-02\n",
      "   5.83893563e-01  4.20724458e-01  4.05495931e-01  7.21606316e-02\n",
      "  -2.36309819e-01  7.60791813e-02  2.14514662e-01  8.35587442e-03\n",
      "   5.64344177e-02  4.66618724e-03 -9.35068030e-04]\n",
      " [ 1.46997855e-01 -7.65056793e-02 -1.65597464e-02 -2.76000059e-04\n",
      "   8.77703785e-02 -1.63024285e-01 -9.98714641e-02 -1.54071745e-02\n",
      "  -3.79857203e-02  6.78197689e-02 -8.80032599e-02  4.65361336e-01\n",
      "   7.89620755e-01 -2.52651711e-01  1.00448778e-01]\n",
      " [-3.14572954e-02  4.06703693e-02  1.93712888e-02 -6.18206497e-02\n",
      "  -3.87824922e-01  6.33032248e-02  3.33912768e-02  1.26856310e-01\n",
      "  -5.30674154e-02  1.15961737e-01  6.22865801e-01  2.71360525e-01\n",
      "   1.61619732e-01  4.84030131e-01 -2.88563043e-01]\n",
      " [ 1.22120499e-01 -5.31503847e-01  3.70003635e-02  4.52457225e-01\n",
      "  -1.77047205e-01  3.86810552e-01 -1.08346724e-01  4.52686512e-02\n",
      "  -1.55156873e-01 -9.56098491e-02  1.24504896e-01 -4.18477795e-01\n",
      "   2.52640444e-01 -2.25504400e-02  1.16496989e-01]\n",
      " [ 2.52594937e-01 -5.73830287e-01  8.33073890e-02 -6.82836602e-01\n",
      "  -7.97469833e-02 -1.36372698e-01  2.60074913e-01  5.32316976e-02\n",
      "  -5.29115365e-03 -8.60183939e-02  8.64662828e-02 -5.52145756e-02\n",
      "  -7.66996289e-02 -9.36024712e-02  7.53823727e-02]\n",
      " [-3.08637142e-01 -1.09605596e-01  9.67882093e-02  8.59290342e-02\n",
      "  -3.21266303e-01  1.35938005e-01  5.51464447e-01 -1.17501129e-01\n",
      "  -3.54544653e-01  1.21072905e-01 -4.86154159e-01  2.06815270e-01\n",
      "   2.06944311e-02  1.15982999e-01 -5.48447338e-02]\n",
      " [ 1.04518578e-01  1.69884184e-02  1.10120566e-02  1.61191725e-01\n",
      "  -2.80728232e-01  1.59864335e-01 -2.59581026e-02 -1.39166549e-02\n",
      "  -1.56093948e-01  4.10768885e-02  2.86174027e-01  4.23195618e-01\n",
      "  -4.03435025e-01 -6.18735551e-01  1.57526328e-01]\n",
      " [-4.51623935e-01 -2.95058382e-01  6.99159503e-01  1.25423005e-01\n",
      "   1.87526016e-01 -8.44959743e-02 -1.17461517e-01  1.24794259e-01\n",
      "   2.96142021e-01  1.58924612e-03  6.23293697e-02  1.87707237e-01\n",
      "  -7.37221511e-02 -1.69874863e-02 -1.41397188e-02]\n",
      " [ 1.47878676e-01  8.10638998e-03  8.78444836e-02  7.09131553e-02\n",
      "  -4.10538092e-02  1.28247550e-01  1.38699217e-01 -6.63808800e-01\n",
      "   3.01950940e-01 -5.69711841e-01  4.25412888e-02  1.34472097e-01\n",
      "   3.56749967e-02  2.36692636e-02 -2.23242048e-01]\n",
      " [ 3.97066086e-01  3.01758120e-01  6.21075265e-01 -7.82289838e-02\n",
      "  -3.42372777e-01 -1.59796513e-01 -2.63940511e-01 -9.08407260e-02\n",
      "  -2.67038228e-01  8.16289116e-03 -1.71094138e-01 -1.69130618e-01\n",
      "   1.94700014e-02  7.01139131e-02  6.48549758e-02]\n",
      " [ 1.97751323e-01 -1.63669196e-01 -4.55758571e-02 -6.85880135e-02\n",
      "   1.01772246e-01  2.78620616e-01 -3.51883760e-01  3.10050741e-01\n",
      "  -1.30479444e-01 -1.62143751e-01 -3.44149550e-01  2.52616803e-01\n",
      "  -1.42362832e-01  1.68737762e-02 -6.10952625e-01]\n",
      " [ 1.13715864e-01 -1.65323483e-01 -7.75372249e-02 -4.76527243e-02\n",
      "   1.38790411e-01  2.22911846e-01 -2.88287910e-01 -1.91897523e-01\n",
      "  -5.01802711e-02  4.23722314e-02 -1.16770338e-01  3.70803666e-01\n",
      "  -1.97929054e-01  4.99678227e-01  5.64153012e-01]\n",
      " [ 3.40926508e-01  4.24870722e-02  4.75102854e-02  5.51579523e-02\n",
      "  -2.21111827e-01  2.76199278e-01  1.72211131e-01  1.29263019e-01\n",
      "   6.92186830e-01  4.25658266e-01 -2.10505072e-01  1.87748346e-02\n",
      "   9.01014022e-03  8.60590644e-04  8.23926829e-03]\n",
      " [ 5.24224544e-02 -2.37312249e-01 -1.19612118e-02  3.19791424e-02\n",
      "   1.79331939e-01 -1.14087301e-01 -1.55772986e-01 -5.62638696e-01\n",
      "  -1.27327786e-01  6.35994947e-01  7.54949895e-02 -7.20060402e-02\n",
      "  -8.98026286e-02 -4.77676004e-02 -3.34414575e-01]\n",
      " [ 4.14266050e-01 -1.78120443e-01 -2.84740902e-02  5.03014389e-01\n",
      "   1.28411573e-01 -5.60720992e-01  2.77066167e-01  1.69955190e-01\n",
      "  -2.58441825e-02 -6.98403307e-02 -1.93238533e-03  1.44648475e-01\n",
      "  -1.99046865e-01  1.95688991e-01 -4.34529988e-02]]\n",
      "\n",
      "\n",
      "Eigen values: \n",
      " [2.39206216 1.53693534 0.37741717 0.49966073 1.19840347 0.64654275\n",
      " 0.69174588 1.15021678 0.79356334 0.82009293 0.91138556 0.94347435\n",
      " 0.98301239 1.04385915 1.01905375]\n"
     ]
    }
   ],
   "source": [
    "## Calculating eigen values and eigen vectors\n",
    "eig_vals, eig_vecs = np.linalg.eig(cov_matrix)\n",
    "print('Eigen vectors:','\\n',eig_vecs)\n",
    "print('\\n')\n",
    "print('Eigen values:','\\n',eig_vals)"
   ]
  },
  {
   "cell_type": "code",
   "execution_count": 31,
   "id": "34bfa766",
   "metadata": {
    "colab": {
     "base_uri": "https://localhost:8080/"
    },
    "executionInfo": {
     "elapsed": 4,
     "status": "ok",
     "timestamp": 1656680136285,
     "user": {
      "displayName": "Vikas HM",
      "userId": "18207387345907596827"
     },
     "user_tz": -330
    },
    "id": "34bfa766",
    "outputId": "63282c05-8844-4278-ddbc-ad015a27a6b8"
   },
   "outputs": [
    {
     "name": "stdout",
     "output_type": "stream",
     "text": [
      "Variance Explained:  [15.939190371596442, 10.241165716382609, 7.985403278752182, 7.664317635335535, 6.9556176095640145, 6.7903300939374684, 6.550173244619652, 6.286716744315749, 6.07289737893163, 5.464580994776018, 5.287804543736533, 4.609357307934326, 4.308152281570268, 3.329423315096873, 2.514869483450703]\n",
      "Cummulative Variance Explained:  [ 15.93919037  26.18035609  34.16575937  41.830077    48.78569461\n",
      "  55.57602471  62.12619795  68.41291469  74.48581207  79.95039307\n",
      "  85.23819761  89.84755492  94.1557072   97.48513052 100.        ]\n"
     ]
    }
   ],
   "source": [
    "## Calculating the Variance explained and the cummulative variance explained\n",
    "total = sum(eig_vals)\n",
    "var_exp = [ (i/total)*100  for i in sorted(eig_vals,reverse=True)]\n",
    "cum_var_exp = np.cumsum(var_exp)\n",
    "print('Variance Explained: ',var_exp)\n",
    "print('Cummulative Variance Explained: ',cum_var_exp)"
   ]
  },
  {
   "cell_type": "code",
   "execution_count": 32,
   "id": "f38a9509",
   "metadata": {
    "colab": {
     "base_uri": "https://localhost:8080/",
     "height": 297
    },
    "executionInfo": {
     "elapsed": 466,
     "status": "ok",
     "timestamp": 1656680139410,
     "user": {
      "displayName": "Vikas HM",
      "userId": "18207387345907596827"
     },
     "user_tz": -330
    },
    "id": "f38a9509",
    "outputId": "61650399-b5d5-4742-f6c9-6c298e7ceec6"
   },
   "outputs": [
    {
     "data": {
      "image/png": "[encoded data removed]",
      "text/plain": [
       "<Figure size 640x480 with 1 Axes>"
      ]
     },
     "metadata": {},
     "output_type": "display_data"
    }
   ],
   "source": [
    "## Scree plot\n",
    "plt.bar(range(15),var_exp, align='center',color='lightgreen',edgecolor='black',label='Indiviual Explained Varinace')\n",
    "plt.step(range(15), cum_var_exp, where='mid',color='red',label='Cummulative explained Variance')\n",
    "plt.legend(loc = 'best')\n",
    "plt.ylabel('Explained Variance Ratio')\n",
    "plt.xlabel('Principal Components')\n",
    "plt.tight_layout()\n",
    "plt.show()"
   ]
  },
  {
   "cell_type": "markdown",
   "id": "ea02c1c7",
   "metadata": {
    "id": "ea02c1c7"
   },
   "source": [
    "- We can see that approximately 80.0% of variance is explained by the first 10 variables.\n",
    "- so, we can choose the optimal number of principal components as 10."
   ]
  },
  {
   "cell_type": "code",
   "execution_count": 33,
   "id": "159b5aa6",
   "metadata": {
    "colab": {
     "base_uri": "https://localhost:8080/"
    },
    "executionInfo": {
     "elapsed": 351,
     "status": "ok",
     "timestamp": 1656680160065,
     "user": {
      "displayName": "Vikas HM",
      "userId": "18207387345907596827"
     },
     "user_tz": -330
    },
    "id": "159b5aa6",
    "outputId": "15521ab2-fb06-4893-c13e-5118e768fb37"
   },
   "outputs": [
    {
     "data": {
      "text/html": [
       "<style>#sk-container-id-1 {color: black;}#sk-container-id-1 pre{padding: 0;}#sk-container-id-1 div.sk-toggleable {background-color: white;}#sk-container-id-1 label.sk-toggleable__label {cursor: pointer;display: block;width: 100%;margin-bottom: 0;padding: 0.3em;box-sizing: border-box;text-align: center;}#sk-container-id-1 label.sk-toggleable__label-arrow:before {content: \"▸\";float: left;margin-right: 0.25em;color: #696969;}#sk-container-id-1 label.sk-toggleable__label-arrow:hover:before {color: black;}#sk-container-id-1 div.sk-estimator:hover label.sk-toggleable__label-arrow:before {color: black;}#sk-container-id-1 div.sk-toggleable__content {max-height: 0;max-width: 0;overflow: hidden;text-align: left;background-color: #f0f8ff;}#sk-container-id-1 div.sk-toggleable__content pre {margin: 0.2em;color: black;border-radius: 0.25em;background-color: #f0f8ff;}#sk-container-id-1 input.sk-toggleable__control:checked~div.sk-toggleable__content {max-height: 200px;max-width: 100%;overflow: auto;}#sk-container-id-1 input.sk-toggleable__control:checked~label.sk-toggleable__label-arrow:before {content: \"▾\";}#sk-container-id-1 div.sk-estimator input.sk-toggleable__control:checked~label.sk-toggleable__label {background-color: #d4ebff;}#sk-container-id-1 div.sk-label input.sk-toggleable__control:checked~label.sk-toggleable__label {background-color: #d4ebff;}#sk-container-id-1 input.sk-hidden--visually {border: 0;clip: rect(1px 1px 1px 1px);clip: rect(1px, 1px, 1px, 1px);height: 1px;margin: -1px;overflow: hidden;padding: 0;position: absolute;width: 1px;}#sk-container-id-1 div.sk-estimator {font-family: monospace;background-color: #f0f8ff;border: 1px dotted black;border-radius: 0.25em;box-sizing: border-box;margin-bottom: 0.5em;}#sk-container-id-1 div.sk-estimator:hover {background-color: #d4ebff;}#sk-container-id-1 div.sk-parallel-item::after {content: \"\";width: 100%;border-bottom: 1px solid gray;flex-grow: 1;}#sk-container-id-1 div.sk-label:hover label.sk-toggleable__label {background-color: #d4ebff;}#sk-container-id-1 div.sk-serial::before {content: \"\";position: absolute;border-left: 1px solid gray;box-sizing: border-box;top: 0;bottom: 0;left: 50%;z-index: 0;}#sk-container-id-1 div.sk-serial {display: flex;flex-direction: column;align-items: center;background-color: white;padding-right: 0.2em;padding-left: 0.2em;position: relative;}#sk-container-id-1 div.sk-item {position: relative;z-index: 1;}#sk-container-id-1 div.sk-parallel {display: flex;align-items: stretch;justify-content: center;background-color: white;position: relative;}#sk-container-id-1 div.sk-item::before, #sk-container-id-1 div.sk-parallel-item::before {content: \"\";position: absolute;border-left: 1px solid gray;box-sizing: border-box;top: 0;bottom: 0;left: 50%;z-index: -1;}#sk-container-id-1 div.sk-parallel-item {display: flex;flex-direction: column;z-index: 1;position: relative;background-color: white;}#sk-container-id-1 div.sk-parallel-item:first-child::after {align-self: flex-end;width: 50%;}#sk-container-id-1 div.sk-parallel-item:last-child::after {align-self: flex-start;width: 50%;}#sk-container-id-1 div.sk-parallel-item:only-child::after {width: 0;}#sk-container-id-1 div.sk-dashed-wrapped {border: 1px dashed gray;margin: 0 0.4em 0.5em 0.4em;box-sizing: border-box;padding-bottom: 0.4em;background-color: white;}#sk-container-id-1 div.sk-label label {font-family: monospace;font-weight: bold;display: inline-block;line-height: 1.2em;}#sk-container-id-1 div.sk-label-container {text-align: center;}#sk-container-id-1 div.sk-container {/* jupyter's `normalize.less` sets `[hidden] { display: none; }` but bootstrap.min.css set `[hidden] { display: none !important; }` so we also need the `!important` here to be able to override the default hidden behavior on the sphinx rendered scikit-learn.org. See: https://github.com/scikit-learn/scikit-learn/issues/21755 */display: inline-block !important;position: relative;}#sk-container-id-1 div.sk-text-repr-fallback {display: none;}</style><div id=\"sk-container-id-1\" class=\"sk-top-container\"><div class=\"sk-text-repr-fallback\"><pre>PCA(n_components=10)</pre><b>In a Jupyter environment, please rerun this cell to show the HTML representation or trust the notebook. <br />On GitHub, the HTML representation is unable to render, please try loading this page with nbviewer.org.</b></div><div class=\"sk-container\" hidden><div class=\"sk-item\"><div class=\"sk-estimator sk-toggleable\"><input class=\"sk-toggleable__control sk-hidden--visually\" id=\"sk-estimator-id-1\" type=\"checkbox\" checked><label for=\"sk-estimator-id-1\" class=\"sk-toggleable__label sk-toggleable__label-arrow\">PCA</label><div class=\"sk-toggleable__content\"><pre>PCA(n_components=10)</pre></div></div></div></div></div>"
      ],
      "text/plain": [
       "PCA(n_components=10)"
      ]
     },
     "execution_count": 33,
     "metadata": {},
     "output_type": "execute_result"
    }
   ],
   "source": [
    "## Fitting the PCA model\n",
    "pca=PCA(n_components = 10)\n",
    "pca.fit(scaled_features_df)"
   ]
  },
  {
   "cell_type": "code",
   "execution_count": 34,
   "id": "63b86278",
   "metadata": {
    "colab": {
     "base_uri": "https://localhost:8080/",
     "height": 206
    },
    "executionInfo": {
     "elapsed": 410,
     "status": "ok",
     "timestamp": 1656680176936,
     "user": {
      "displayName": "Vikas HM",
      "userId": "18207387345907596827"
     },
     "user_tz": -330
    },
    "id": "63b86278",
    "outputId": "9f02fbf8-1855-45e2-8380-640ba0907fec"
   },
   "outputs": [
    {
     "data": {
      "text/html": [
       "<div>\n",
       "<style scoped>\n",
       "    .dataframe tbody tr th:only-of-type {\n",
       "        vertical-align: middle;\n",
       "    }\n",
       "\n",
       "    .dataframe tbody tr th {\n",
       "        vertical-align: top;\n",
       "    }\n",
       "\n",
       "    .dataframe thead th {\n",
       "        text-align: right;\n",
       "    }\n",
       "</style>\n",
       "<table border=\"1\" class=\"dataframe\">\n",
       "  <thead>\n",
       "    <tr style=\"text-align: right;\">\n",
       "      <th></th>\n",
       "      <th>PC1</th>\n",
       "      <th>PC2</th>\n",
       "      <th>PC3</th>\n",
       "      <th>PC4</th>\n",
       "      <th>PC5</th>\n",
       "      <th>PC6</th>\n",
       "      <th>PC7</th>\n",
       "      <th>PC8</th>\n",
       "      <th>PC9</th>\n",
       "      <th>PC10</th>\n",
       "    </tr>\n",
       "  </thead>\n",
       "  <tbody>\n",
       "    <tr>\n",
       "      <th>0</th>\n",
       "      <td>-1.863405</td>\n",
       "      <td>1.616243</td>\n",
       "      <td>0.604286</td>\n",
       "      <td>0.780499</td>\n",
       "      <td>0.232403</td>\n",
       "      <td>0.167807</td>\n",
       "      <td>-0.638376</td>\n",
       "      <td>0.830357</td>\n",
       "      <td>0.769600</td>\n",
       "      <td>1.673673</td>\n",
       "    </tr>\n",
       "    <tr>\n",
       "      <th>1</th>\n",
       "      <td>0.740996</td>\n",
       "      <td>0.737776</td>\n",
       "      <td>0.073456</td>\n",
       "      <td>-0.660453</td>\n",
       "      <td>-0.309406</td>\n",
       "      <td>-0.091730</td>\n",
       "      <td>0.176715</td>\n",
       "      <td>-1.149435</td>\n",
       "      <td>0.736648</td>\n",
       "      <td>0.135785</td>\n",
       "    </tr>\n",
       "    <tr>\n",
       "      <th>2</th>\n",
       "      <td>1.333525</td>\n",
       "      <td>0.227786</td>\n",
       "      <td>1.413957</td>\n",
       "      <td>-0.097731</td>\n",
       "      <td>0.574525</td>\n",
       "      <td>0.628063</td>\n",
       "      <td>-1.699970</td>\n",
       "      <td>0.379289</td>\n",
       "      <td>-1.328221</td>\n",
       "      <td>-0.151213</td>\n",
       "    </tr>\n",
       "    <tr>\n",
       "      <th>3</th>\n",
       "      <td>1.620595</td>\n",
       "      <td>-0.491519</td>\n",
       "      <td>-0.219290</td>\n",
       "      <td>1.604197</td>\n",
       "      <td>0.079296</td>\n",
       "      <td>0.008933</td>\n",
       "      <td>-0.342345</td>\n",
       "      <td>-0.947008</td>\n",
       "      <td>0.121129</td>\n",
       "      <td>0.800066</td>\n",
       "    </tr>\n",
       "    <tr>\n",
       "      <th>4</th>\n",
       "      <td>-2.109267</td>\n",
       "      <td>-1.732279</td>\n",
       "      <td>0.101220</td>\n",
       "      <td>-0.623730</td>\n",
       "      <td>-0.175897</td>\n",
       "      <td>0.092863</td>\n",
       "      <td>0.280105</td>\n",
       "      <td>-0.719828</td>\n",
       "      <td>0.701509</td>\n",
       "      <td>-0.652690</td>\n",
       "    </tr>\n",
       "  </tbody>\n",
       "</table>\n",
       "</div>"
      ],
      "text/plain": [
       "        PC1       PC2       PC3       PC4       PC5       PC6       PC7  \\\n",
       "0 -1.863405  1.616243  0.604286  0.780499  0.232403  0.167807 -0.638376   \n",
       "1  0.740996  0.737776  0.073456 -0.660453 -0.309406 -0.091730  0.176715   \n",
       "2  1.333525  0.227786  1.413957 -0.097731  0.574525  0.628063 -1.699970   \n",
       "3  1.620595 -0.491519 -0.219290  1.604197  0.079296  0.008933 -0.342345   \n",
       "4 -2.109267 -1.732279  0.101220 -0.623730 -0.175897  0.092863  0.280105   \n",
       "\n",
       "        PC8       PC9      PC10  \n",
       "0  0.830357  0.769600  1.673673  \n",
       "1 -1.149435  0.736648  0.135785  \n",
       "2  0.379289 -1.328221 -0.151213  \n",
       "3 -0.947008  0.121129  0.800066  \n",
       "4 -0.719828  0.701509 -0.652690  "
      ]
     },
     "execution_count": 34,
     "metadata": {},
     "output_type": "execute_result"
    }
   ],
   "source": [
    "data_pca = pca.transform(scaled_features_df)\n",
    "data_pca = pd.DataFrame(data_pca,columns=['PC1','PC2','PC3','PC4','PC5','PC6','PC7','PC8','PC9','PC10'])\n",
    "data_pca.head()"
   ]
  },
  {
   "cell_type": "markdown",
   "id": "83884044",
   "metadata": {
    "id": "83884044"
   },
   "source": [
    "## K-means Clustering"
   ]
  },
  {
   "cell_type": "markdown",
   "id": "9d631d8c",
   "metadata": {
    "id": "9d631d8c"
   },
   "source": [
    "### Q15. Apply k-means and try to find the optimal number of clusters."
   ]
  },
  {
   "cell_type": "code",
   "execution_count": 35,
   "id": "9a1cd8da",
   "metadata": {
    "colab": {
     "base_uri": "https://localhost:8080/",
     "height": 488
    },
    "executionInfo": {
     "elapsed": 6094,
     "status": "ok",
     "timestamp": 1656680213243,
     "user": {
      "displayName": "Vikas HM",
      "userId": "18207387345907596827"
     },
     "user_tz": -330
    },
    "id": "9a1cd8da",
    "outputId": "3a071c7f-7006-4135-8012-98ea15b76ffc"
   },
   "outputs": [
    {
     "data": {
      "text/html": [
       "<div>\n",
       "<style scoped>\n",
       "    .dataframe tbody tr th:only-of-type {\n",
       "        vertical-align: middle;\n",
       "    }\n",
       "\n",
       "    .dataframe tbody tr th {\n",
       "        vertical-align: top;\n",
       "    }\n",
       "\n",
       "    .dataframe thead th {\n",
       "        text-align: right;\n",
       "    }\n",
       "</style>\n",
       "<table border=\"1\" class=\"dataframe\">\n",
       "  <thead>\n",
       "    <tr style=\"text-align: right;\">\n",
       "      <th></th>\n",
       "      <th>num_clusters</th>\n",
       "      <th>cluster_errors</th>\n",
       "    </tr>\n",
       "  </thead>\n",
       "  <tbody>\n",
       "    <tr>\n",
       "      <th>0</th>\n",
       "      <td>1</td>\n",
       "      <td>24236.961659</td>\n",
       "    </tr>\n",
       "    <tr>\n",
       "      <th>1</th>\n",
       "      <td>2</td>\n",
       "      <td>20735.563484</td>\n",
       "    </tr>\n",
       "    <tr>\n",
       "      <th>2</th>\n",
       "      <td>3</td>\n",
       "      <td>18827.627540</td>\n",
       "    </tr>\n",
       "    <tr>\n",
       "      <th>3</th>\n",
       "      <td>4</td>\n",
       "      <td>17150.103891</td>\n",
       "    </tr>\n",
       "    <tr>\n",
       "      <th>4</th>\n",
       "      <td>5</td>\n",
       "      <td>16007.822394</td>\n",
       "    </tr>\n",
       "    <tr>\n",
       "      <th>5</th>\n",
       "      <td>6</td>\n",
       "      <td>14620.610846</td>\n",
       "    </tr>\n",
       "    <tr>\n",
       "      <th>6</th>\n",
       "      <td>7</td>\n",
       "      <td>13237.772336</td>\n",
       "    </tr>\n",
       "    <tr>\n",
       "      <th>7</th>\n",
       "      <td>8</td>\n",
       "      <td>12506.991301</td>\n",
       "    </tr>\n",
       "    <tr>\n",
       "      <th>8</th>\n",
       "      <td>9</td>\n",
       "      <td>11656.501075</td>\n",
       "    </tr>\n",
       "    <tr>\n",
       "      <th>9</th>\n",
       "      <td>10</td>\n",
       "      <td>11059.424359</td>\n",
       "    </tr>\n",
       "    <tr>\n",
       "      <th>10</th>\n",
       "      <td>11</td>\n",
       "      <td>10608.429765</td>\n",
       "    </tr>\n",
       "    <tr>\n",
       "      <th>11</th>\n",
       "      <td>12</td>\n",
       "      <td>10226.847336</td>\n",
       "    </tr>\n",
       "    <tr>\n",
       "      <th>12</th>\n",
       "      <td>13</td>\n",
       "      <td>9962.714488</td>\n",
       "    </tr>\n",
       "    <tr>\n",
       "      <th>13</th>\n",
       "      <td>14</td>\n",
       "      <td>9664.850427</td>\n",
       "    </tr>\n",
       "  </tbody>\n",
       "</table>\n",
       "</div>"
      ],
      "text/plain": [
       "    num_clusters  cluster_errors\n",
       "0              1    24236.961659\n",
       "1              2    20735.563484\n",
       "2              3    18827.627540\n",
       "3              4    17150.103891\n",
       "4              5    16007.822394\n",
       "5              6    14620.610846\n",
       "6              7    13237.772336\n",
       "7              8    12506.991301\n",
       "8              9    11656.501075\n",
       "9             10    11059.424359\n",
       "10            11    10608.429765\n",
       "11            12    10226.847336\n",
       "12            13     9962.714488\n",
       "13            14     9664.850427"
      ]
     },
     "execution_count": 35,
     "metadata": {},
     "output_type": "execute_result"
    }
   ],
   "source": [
    "cluster_range = range(1,15)\n",
    "cluster_errors = []\n",
    "\n",
    "for num_clusters in cluster_range:\n",
    "   \n",
    "    clusters = KMeans(num_clusters, n_init=10)\n",
    "    clusters.fit(data_pca)\n",
    "    \n",
    "    labels = clusters.labels_\n",
    "    centroids = clusters.cluster_centers_\n",
    "    \n",
    "    cluster_errors.append(clusters.inertia_)\n",
    "\n",
    "clusters_df = pd.DataFrame({'num_clusters':cluster_range, \n",
    "                           'cluster_errors':cluster_errors})\n",
    "\n",
    "clusters_df"
   ]
  },
  {
   "cell_type": "code",
   "execution_count": 36,
   "id": "3b969557",
   "metadata": {
    "colab": {
     "base_uri": "https://localhost:8080/",
     "height": 404
    },
    "executionInfo": {
     "elapsed": 685,
     "status": "ok",
     "timestamp": 1656680238178,
     "user": {
      "displayName": "Vikas HM",
      "userId": "18207387345907596827"
     },
     "user_tz": -330
    },
    "id": "3b969557",
    "outputId": "4d624db2-d6b1-400c-a56a-a14f3d4f957d"
   },
   "outputs": [
    {
     "data": {
      "image/png": "[encoded data removed]",
      "text/plain": [
       "<Figure size 1200x600 with 1 Axes>"
      ]
     },
     "metadata": {},
     "output_type": "display_data"
    }
   ],
   "source": [
    "## Elbow method\n",
    "plt.figure(figsize=[12,6])\n",
    "plt.title('The Elbow Method')\n",
    "plt.xlabel('Number of clusters using PCA')\n",
    "plt.plot(clusters_df['num_clusters'],clusters_df['cluster_errors'],marker='o',color='b')\n",
    "plt.show()"
   ]
  },
  {
   "cell_type": "markdown",
   "id": "8d3fbd78",
   "metadata": {
    "id": "8d3fbd78"
   },
   "source": [
    "- From the Elbow plot, we can see that at K=6 the interia starts to drop significantly. So we will do it using 6 clusters. \n",
    "- The clusters are labeled as 0,1,2,3,4,5."
   ]
  },
  {
   "cell_type": "code",
   "execution_count": 37,
   "id": "718569ae",
   "metadata": {
    "colab": {
     "base_uri": "https://localhost:8080/"
    },
    "executionInfo": {
     "elapsed": 1113,
     "status": "ok",
     "timestamp": 1656680250663,
     "user": {
      "displayName": "Vikas HM",
      "userId": "18207387345907596827"
     },
     "user_tz": -330
    },
    "id": "718569ae",
    "outputId": "1d76f501-2059-4488-ba15-c487b1f4b125"
   },
   "outputs": [
    {
     "data": {
      "text/html": [
       "<style>#sk-container-id-2 {color: black;}#sk-container-id-2 pre{padding: 0;}#sk-container-id-2 div.sk-toggleable {background-color: white;}#sk-container-id-2 label.sk-toggleable__label {cursor: pointer;display: block;width: 100%;margin-bottom: 0;padding: 0.3em;box-sizing: border-box;text-align: center;}#sk-container-id-2 label.sk-toggleable__label-arrow:before {content: \"▸\";float: left;margin-right: 0.25em;color: #696969;}#sk-container-id-2 label.sk-toggleable__label-arrow:hover:before {color: black;}#sk-container-id-2 div.sk-estimator:hover label.sk-toggleable__label-arrow:before {color: black;}#sk-container-id-2 div.sk-toggleable__content {max-height: 0;max-width: 0;overflow: hidden;text-align: left;background-color: #f0f8ff;}#sk-container-id-2 div.sk-toggleable__content pre {margin: 0.2em;color: black;border-radius: 0.25em;background-color: #f0f8ff;}#sk-container-id-2 input.sk-toggleable__control:checked~div.sk-toggleable__content {max-height: 200px;max-width: 100%;overflow: auto;}#sk-container-id-2 input.sk-toggleable__control:checked~label.sk-toggleable__label-arrow:before {content: \"▾\";}#sk-container-id-2 div.sk-estimator input.sk-toggleable__control:checked~label.sk-toggleable__label {background-color: #d4ebff;}#sk-container-id-2 div.sk-label input.sk-toggleable__control:checked~label.sk-toggleable__label {background-color: #d4ebff;}#sk-container-id-2 input.sk-hidden--visually {border: 0;clip: rect(1px 1px 1px 1px);clip: rect(1px, 1px, 1px, 1px);height: 1px;margin: -1px;overflow: hidden;padding: 0;position: absolute;width: 1px;}#sk-container-id-2 div.sk-estimator {font-family: monospace;background-color: #f0f8ff;border: 1px dotted black;border-radius: 0.25em;box-sizing: border-box;margin-bottom: 0.5em;}#sk-container-id-2 div.sk-estimator:hover {background-color: #d4ebff;}#sk-container-id-2 div.sk-parallel-item::after {content: \"\";width: 100%;border-bottom: 1px solid gray;flex-grow: 1;}#sk-container-id-2 div.sk-label:hover label.sk-toggleable__label {background-color: #d4ebff;}#sk-container-id-2 div.sk-serial::before {content: \"\";position: absolute;border-left: 1px solid gray;box-sizing: border-box;top: 0;bottom: 0;left: 50%;z-index: 0;}#sk-container-id-2 div.sk-serial {display: flex;flex-direction: column;align-items: center;background-color: white;padding-right: 0.2em;padding-left: 0.2em;position: relative;}#sk-container-id-2 div.sk-item {position: relative;z-index: 1;}#sk-container-id-2 div.sk-parallel {display: flex;align-items: stretch;justify-content: center;background-color: white;position: relative;}#sk-container-id-2 div.sk-item::before, #sk-container-id-2 div.sk-parallel-item::before {content: \"\";position: absolute;border-left: 1px solid gray;box-sizing: border-box;top: 0;bottom: 0;left: 50%;z-index: -1;}#sk-container-id-2 div.sk-parallel-item {display: flex;flex-direction: column;z-index: 1;position: relative;background-color: white;}#sk-container-id-2 div.sk-parallel-item:first-child::after {align-self: flex-end;width: 50%;}#sk-container-id-2 div.sk-parallel-item:last-child::after {align-self: flex-start;width: 50%;}#sk-container-id-2 div.sk-parallel-item:only-child::after {width: 0;}#sk-container-id-2 div.sk-dashed-wrapped {border: 1px dashed gray;margin: 0 0.4em 0.5em 0.4em;box-sizing: border-box;padding-bottom: 0.4em;background-color: white;}#sk-container-id-2 div.sk-label label {font-family: monospace;font-weight: bold;display: inline-block;line-height: 1.2em;}#sk-container-id-2 div.sk-label-container {text-align: center;}#sk-container-id-2 div.sk-container {/* jupyter's `normalize.less` sets `[hidden] { display: none; }` but bootstrap.min.css set `[hidden] { display: none !important; }` so we also need the `!important` here to be able to override the default hidden behavior on the sphinx rendered scikit-learn.org. See: https://github.com/scikit-learn/scikit-learn/issues/21755 */display: inline-block !important;position: relative;}#sk-container-id-2 div.sk-text-repr-fallback {display: none;}</style><div id=\"sk-container-id-2\" class=\"sk-top-container\"><div class=\"sk-text-repr-fallback\"><pre>KMeans(n_clusters=6, n_init=15, random_state=2345)</pre><b>In a Jupyter environment, please rerun this cell to show the HTML representation or trust the notebook. <br />On GitHub, the HTML representation is unable to render, please try loading this page with nbviewer.org.</b></div><div class=\"sk-container\" hidden><div class=\"sk-item\"><div class=\"sk-estimator sk-toggleable\"><input class=\"sk-toggleable__control sk-hidden--visually\" id=\"sk-estimator-id-2\" type=\"checkbox\" checked><label for=\"sk-estimator-id-2\" class=\"sk-toggleable__label sk-toggleable__label-arrow\">KMeans</label><div class=\"sk-toggleable__content\"><pre>KMeans(n_clusters=6, n_init=15, random_state=2345)</pre></div></div></div></div></div>"
      ],
      "text/plain": [
       "KMeans(n_clusters=6, n_init=15, random_state=2345)"
      ]
     },
     "execution_count": 37,
     "metadata": {},
     "output_type": "execute_result"
    }
   ],
   "source": [
    "## Fit the KMeans clustering model using the obtained optimal K\n",
    "kmeans = KMeans(n_clusters=6, n_init=15, random_state=2345)\n",
    "kmeans.fit(data_pca)"
   ]
  },
  {
   "cell_type": "code",
   "execution_count": 38,
   "id": "504efa02",
   "metadata": {
    "colab": {
     "base_uri": "https://localhost:8080/"
    },
    "executionInfo": {
     "elapsed": 4,
     "status": "ok",
     "timestamp": 1656680251897,
     "user": {
      "displayName": "Vikas HM",
      "userId": "18207387345907596827"
     },
     "user_tz": -330
    },
    "id": "504efa02",
    "outputId": "f2944a57-5a9a-4cad-b931-a3af5368bb05"
   },
   "outputs": [
    {
     "data": {
      "text/plain": [
       "array([1, 2, 2, ..., 0, 0, 3])"
      ]
     },
     "execution_count": 38,
     "metadata": {},
     "output_type": "execute_result"
    }
   ],
   "source": [
    "## obtained labels from kmeans clustering\n",
    "kmeans.labels_"
   ]
  },
  {
   "cell_type": "code",
   "execution_count": 39,
   "id": "a5fb2524",
   "metadata": {
    "colab": {
     "base_uri": "https://localhost:8080/",
     "height": 206
    },
    "executionInfo": {
     "elapsed": 5,
     "status": "ok",
     "timestamp": 1656680253635,
     "user": {
      "displayName": "Vikas HM",
      "userId": "18207387345907596827"
     },
     "user_tz": -330
    },
    "id": "a5fb2524",
    "outputId": "2cd82273-48a4-42f8-f89b-f7ef8d3c2e77"
   },
   "outputs": [
    {
     "data": {
      "text/html": [
       "<div>\n",
       "<style scoped>\n",
       "    .dataframe tbody tr th:only-of-type {\n",
       "        vertical-align: middle;\n",
       "    }\n",
       "\n",
       "    .dataframe tbody tr th {\n",
       "        vertical-align: top;\n",
       "    }\n",
       "\n",
       "    .dataframe thead th {\n",
       "        text-align: right;\n",
       "    }\n",
       "</style>\n",
       "<table border=\"1\" class=\"dataframe\">\n",
       "  <thead>\n",
       "    <tr style=\"text-align: right;\">\n",
       "      <th></th>\n",
       "      <th>Labels</th>\n",
       "    </tr>\n",
       "  </thead>\n",
       "  <tbody>\n",
       "    <tr>\n",
       "      <th>0</th>\n",
       "      <td>1</td>\n",
       "    </tr>\n",
       "    <tr>\n",
       "      <th>1</th>\n",
       "      <td>2</td>\n",
       "    </tr>\n",
       "    <tr>\n",
       "      <th>2</th>\n",
       "      <td>2</td>\n",
       "    </tr>\n",
       "    <tr>\n",
       "      <th>3</th>\n",
       "      <td>2</td>\n",
       "    </tr>\n",
       "    <tr>\n",
       "      <th>4</th>\n",
       "      <td>0</td>\n",
       "    </tr>\n",
       "  </tbody>\n",
       "</table>\n",
       "</div>"
      ],
      "text/plain": [
       "   Labels\n",
       "0       1\n",
       "1       2\n",
       "2       2\n",
       "3       2\n",
       "4       0"
      ]
     },
     "execution_count": 39,
     "metadata": {},
     "output_type": "execute_result"
    }
   ],
   "source": [
    "## Creating a new dataframe only for labels.\n",
    "df_labels = pd.DataFrame(kmeans.labels_, columns=list(['Labels']))\n",
    "df_labels.head(5)"
   ]
  },
  {
   "cell_type": "markdown",
   "id": "58026f8a",
   "metadata": {
    "id": "58026f8a"
   },
   "source": [
    "### Q16. Compute Silhoutte Score for validating the best optimal number of clusters."
   ]
  },
  {
   "cell_type": "code",
   "execution_count": 48,
   "id": "ec6a056c",
   "metadata": {
    "colab": {
     "base_uri": "https://localhost:8080/"
    },
    "executionInfo": {
     "elapsed": 7376,
     "status": "ok",
     "timestamp": 1656680344155,
     "user": {
      "displayName": "Vikas HM",
      "userId": "18207387345907596827"
     },
     "user_tz": -330
    },
    "id": "ec6a056c",
    "outputId": "c42fe34b-96fb-4b41-9cfc-ac9921f3b034"
   },
   "outputs": [
    {
     "name": "stdout",
     "output_type": "stream",
     "text": [
      "2 0.1594448101372918\n",
      "3 0.1699457918702015\n",
      "4 0.17790953201562487\n",
      "5 0.1956413624483714\n",
      "6 0.17817609044791446\n",
      "7 0.1932208113561643\n",
      "8 0.16698118739612097\n",
      "9 0.17557502593593577\n",
      "10 0.17633568769139332\n",
      "11 0.15562344016173138\n",
      "12 0.16470261349296839\n",
      "13 0.16566351678853158\n",
      "14 0.17219082247000164\n"
     ]
    }
   ],
   "source": [
    "from sklearn.metrics import silhouette_score\n",
    "\n",
    "kmeans_score = []\n",
    "\n",
    "for i in range(2,15):\n",
    "    kmeans = KMeans(n_clusters=i)\n",
    "    kmeans = kmeans.fit(data_pca)\n",
    "    labels = kmeans.predict(data_pca)\n",
    "    print(i,silhouette_score(data_pca,labels))"
   ]
  },
  {
   "cell_type": "markdown",
   "id": "9de814ba",
   "metadata": {
    "id": "9de814ba"
   },
   "source": [
    " - From above, we can observe that for 6 clusters the silhoutte score is highest, we can choose optimal clusters as 6."
   ]
  },
  {
   "cell_type": "markdown",
   "id": "69e6e801",
   "metadata": {
    "id": "69e6e801"
   },
   "source": [
    "## Agglomertaive Clustering"
   ]
  },
  {
   "cell_type": "markdown",
   "id": "2a69d82f",
   "metadata": {
    "id": "2a69d82f"
   },
   "source": [
    "### Q17. Use dendrograms and find the number of classes in the dataset. "
   ]
  },
  {
   "cell_type": "code",
   "execution_count": 42,
   "id": "0b409012",
   "metadata": {
    "colab": {
     "base_uri": "https://localhost:8080/",
     "height": 445
    },
    "executionInfo": {
     "elapsed": 44916,
     "status": "ok",
     "timestamp": 1656680403916,
     "user": {
      "displayName": "Vikas HM",
      "userId": "18207387345907596827"
     },
     "user_tz": -330
    },
    "id": "0b409012",
    "outputId": "009bcc20-08f8-49f9-f4eb-23b0a81295cf"
   },
   "outputs": [
    {
     "data": {
      "image/png": "[encoded data removed]",
      "text/plain": [
       "<Figure size 1800x700 with 1 Axes>"
      ]
     },
     "metadata": {},
     "output_type": "display_data"
    }
   ],
   "source": [
    "plt.figure(figsize=[18,7])\n",
    "merg = linkage(data_pca, method='ward')\n",
    "dendrogram(merg, leaf_rotation=90,)\n",
    "plt.xlabel('Datapoints')\n",
    "plt.ylabel('Euclidean distance')\n",
    "plt.show()"
   ]
  },
  {
   "cell_type": "code",
   "execution_count": 43,
   "id": "94321917",
   "metadata": {
    "id": "94321917"
   },
   "outputs": [],
   "source": [
    "## Building hierarchical clustering model using the optimal clusters as 4\n",
    "hie_cluster = AgglomerativeClustering(n_clusters=4, affinity='euclidean',\n",
    "                                     linkage='ward')\n",
    "hie_cluster_model = hie_cluster.fit(data_pca)"
   ]
  },
  {
   "cell_type": "code",
   "execution_count": 44,
   "id": "3a57e5d1",
   "metadata": {
    "colab": {
     "base_uri": "https://localhost:8080/",
     "height": 206
    },
    "executionInfo": {
     "elapsed": 6,
     "status": "ok",
     "timestamp": 1656680457205,
     "user": {
      "displayName": "Vikas HM",
      "userId": "18207387345907596827"
     },
     "user_tz": -330
    },
    "id": "3a57e5d1",
    "outputId": "813683f8-9e1e-4491-80f1-db2faba6e446"
   },
   "outputs": [
    {
     "data": {
      "text/html": [
       "<div>\n",
       "<style scoped>\n",
       "    .dataframe tbody tr th:only-of-type {\n",
       "        vertical-align: middle;\n",
       "    }\n",
       "\n",
       "    .dataframe tbody tr th {\n",
       "        vertical-align: top;\n",
       "    }\n",
       "\n",
       "    .dataframe thead th {\n",
       "        text-align: right;\n",
       "    }\n",
       "</style>\n",
       "<table border=\"1\" class=\"dataframe\">\n",
       "  <thead>\n",
       "    <tr style=\"text-align: right;\">\n",
       "      <th></th>\n",
       "      <th>Labels</th>\n",
       "    </tr>\n",
       "  </thead>\n",
       "  <tbody>\n",
       "    <tr>\n",
       "      <th>0</th>\n",
       "      <td>1</td>\n",
       "    </tr>\n",
       "    <tr>\n",
       "      <th>1</th>\n",
       "      <td>0</td>\n",
       "    </tr>\n",
       "    <tr>\n",
       "      <th>2</th>\n",
       "      <td>0</td>\n",
       "    </tr>\n",
       "    <tr>\n",
       "      <th>3</th>\n",
       "      <td>2</td>\n",
       "    </tr>\n",
       "    <tr>\n",
       "      <th>4</th>\n",
       "      <td>2</td>\n",
       "    </tr>\n",
       "  </tbody>\n",
       "</table>\n",
       "</div>"
      ],
      "text/plain": [
       "   Labels\n",
       "0       1\n",
       "1       0\n",
       "2       0\n",
       "3       2\n",
       "4       2"
      ]
     },
     "execution_count": 44,
     "metadata": {},
     "output_type": "execute_result"
    }
   ],
   "source": [
    "## Creating a dataframe of the labels\n",
    "df_label1 = pd.DataFrame(hie_cluster_model.labels_,columns=['Labels'])\n",
    "df_label1.head(5)"
   ]
  },
  {
   "cell_type": "markdown",
   "id": "0d024393",
   "metadata": {
    "id": "0d024393"
   },
   "source": [
    "### Q18. Compute Silhoutte Score for validating the best optimal number of classes."
   ]
  },
  {
   "cell_type": "code",
   "execution_count": 45,
   "id": "f996fe28",
   "metadata": {
    "colab": {
     "base_uri": "https://localhost:8080/"
    },
    "executionInfo": {
     "elapsed": 5124,
     "status": "ok",
     "timestamp": 1656680568412,
     "user": {
      "displayName": "Vikas HM",
      "userId": "18207387345907596827"
     },
     "user_tz": -330
    },
    "id": "f996fe28",
    "outputId": "bf2ce68b-1e6d-47ee-ed3b-c6e603262d18"
   },
   "outputs": [
    {
     "name": "stdout",
     "output_type": "stream",
     "text": [
      "2 0.11568625084502149\n",
      "3 0.11895791012524089\n",
      "4 0.13906880913741992\n",
      "5 0.1462721918207639\n",
      "6 0.16752252631122214\n",
      "7 0.16305694091866804\n",
      "8 0.16559886573943602\n",
      "9 0.1467612478643382\n",
      "10 0.11792855939055367\n",
      "11 0.11064008844181297\n",
      "12 0.12055909485804854\n",
      "13 0.12471476850848551\n",
      "14 0.13189809619632617\n"
     ]
    }
   ],
   "source": [
    "for i in range(2,15):\n",
    "    hier = AgglomerativeClustering(n_clusters=i)\n",
    "    hier = hier.fit(data_pca)\n",
    "    labels = hier.fit_predict(data_pca)\n",
    "    print(i,silhouette_score(data_pca,labels))"
   ]
  },
  {
   "cell_type": "markdown",
   "id": "fa15cc93",
   "metadata": {
    "id": "fa15cc93"
   },
   "source": [
    "- From above, we can observe that the silhouette score is highest for 6."
   ]
  },
  {
   "cell_type": "markdown",
   "id": "88a0370d",
   "metadata": {
    "id": "88a0370d"
   },
   "source": [
    "## Conclustion"
   ]
  },
  {
   "cell_type": "markdown",
   "id": "be8e4b64",
   "metadata": {
    "id": "be8e4b64"
   },
   "source": [
    "- In this case study, we have attempted to cluster adult census dataset using K-means and agglomerative clustering and we also reduced the dimensionality of the dataset using PCA.\n",
    "- We came up with 6 clusters using K-means and 4 classes using agglomerative clustering.\n",
    "- Although selection of the clusters can be revised using Silhoutte score but for a general introductory part it is okay to visualize the plot (either elbow graph or dendrograms) and come up with a particular clusters size.\n",
    "- Further, we can also do the cluster analysis by doing bivariate analysis between cluster labels and different features and understand the characteristics of different groups."
   ]
  },
  {
   "cell_type": "markdown",
   "id": "93781d13",
   "metadata": {
    "id": "93781d13"
   },
   "source": [
    "-----\n",
    "## Happy Learning\n",
    "-----"
   ]
  }
 ],
 "metadata": {
  "colab": {
   "collapsed_sections": [],
   "name": "Unsupervised Learning - Mentor Session.ipynb",
   "provenance": []
  },
  "kernelspec": {
   "display_name": "Python 3 (ipykernel)",
   "language": "python",
   "name": "python3"
  },
  "language_info": {
   "codemirror_mode": {
    "name": "ipython",
    "version": 3
   },
   "file_extension": ".py",
   "mimetype": "text/x-python",
   "name": "python",
   "nbconvert_exporter": "python",
   "pygments_lexer": "ipython3",
   "version": "3.11.5"
  }
 },
 "nbformat": 4,
 "nbformat_minor": 5
}
